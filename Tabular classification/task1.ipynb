{
 "cells": [
  {
   "cell_type": "markdown",
   "metadata": {
    "datalore": {
     "hide_input_from_viewers": true,
     "hide_output_from_viewers": true,
     "node_id": "azHRAYxZMLjZIvxIgO0rtQ",
     "type": "MD"
    }
   },
   "source": [
    "# Задание"
   ]
  },
  {
   "cell_type": "markdown",
   "metadata": {
    "datalore": {
     "hide_input_from_viewers": true,
     "hide_output_from_viewers": true,
     "node_id": "Zmc2OLkvyG31TGoC7lZ58T",
     "type": "MD"
    }
   },
   "source": [
    "        1) Преобразование данных (3 балла)\n",
    "                * объяснить значение признаков, что будут использованы\n",
    "                * выполнить корреляционный анализ признаков, попытаться установить зависимые\n",
    "                * произвести выбор признаков\n",
    "                * провести предобработку данных (data preprocessing — закодируйте как-нибудь признаки, попробуйте как минимум два различных способа кодирования)\n",
    "        2) Опробовать как минимум три разные модели (2 балла)\n",
    "        3) Использовать ensemble модель с обучаемыми и не обучаемыми весами (2 балла)\n",
    "        4) Сделать объяснимую модель (2 балла)\n",
    "        5) Обработать результаты, провести error analysis, сравнить модели (1 балл)"
   ]
  },
  {
   "cell_type": "markdown",
   "metadata": {
    "datalore": {
     "hide_input_from_viewers": true,
     "hide_output_from_viewers": true,
     "node_id": "CoYvFN7vVvc6tEzeQLEbPc",
     "type": "MD"
    }
   },
   "source": [
    "## Настройки/Гиперпараметры/Импорты"
   ]
  },
  {
   "cell_type": "code",
   "execution_count": 1,
   "metadata": {
    "datalore": {
     "hide_input_from_viewers": true,
     "hide_output_from_viewers": true,
     "node_id": "PRkMQSCQVbPnTh6GZ4nVPm",
     "type": "CODE"
    }
   },
   "outputs": [
    {
     "name": "stderr",
     "output_type": "stream",
     "text": [
      "c:\\Users\\User\\anaconda3\\envs\\gpu\\lib\\site-packages\\scipy\\__init__.py:177: UserWarning: A NumPy version >=1.18.5 and <1.26.0 is required for this version of SciPy (detected version 1.26.0\n",
      "  warnings.warn(f\"A NumPy version >={np_minversion} and <{np_maxversion}\"\n"
     ]
    }
   ],
   "source": [
    "import pandas as pd # для удобной работы с датасетом\n",
    "import matplotlib.pyplot as plt # для построения графиков\n",
    "import seaborn as sns # для построения графиков (heatmap)\n",
    "import torch # для создания модели\n",
    "from sklearn.model_selection import train_test_split # для разбиения на train - test выборки\n",
    "from torch import nn, optim # для слоёв модели и оптимайзера\n",
    "\n",
    "from sklearn.neighbors import KNeighborsClassifier # KNN классификатор\n",
    "from sklearn.ensemble import RandomForestClassifier # ансамблевая модель\n",
    "from sklearn.model_selection import GridSearchCV # для отбора оптимальных параметров\n",
    "\n",
    "from sklearn.metrics import f1_score # для подсчёта метрики f1\n",
    "from sklearn.metrics import confusion_matrix, ConfusionMatrixDisplay # для матрицы TP, FP, TN, FN\n",
    "from sklearn.preprocessing import MinMaxScaler # для приведения признаков к одной области значений (0+)"
   ]
  },
  {
   "cell_type": "code",
   "execution_count": 2,
   "metadata": {
    "datalore": {
     "hide_input_from_viewers": true,
     "hide_output_from_viewers": true,
     "node_id": "aM1CA2wi3ZM5IXwVg8Omli",
     "type": "CODE"
    }
   },
   "outputs": [],
   "source": [
    "test_size = 0.25 # размер датасета для тестирования\n",
    "random_state = 15 # случайное значение для генераций\n",
    "learning_rate = 0.01 # шаг(скорость) обучения\n",
    "num_epochs = 500 # число эпох\n",
    "\n",
    "n_estimators = 10 # количество моделей в ансамбле (кастомном)"
   ]
  },
  {
   "cell_type": "markdown",
   "metadata": {
    "datalore": {
     "hide_input_from_viewers": true,
     "hide_output_from_viewers": true,
     "node_id": "U6GJGKVZBIxMAJZeXILwJv",
     "type": "MD"
    }
   },
   "source": [
    "# Описание датасета"
   ]
  },
  {
   "cell_type": "markdown",
   "metadata": {
    "datalore": {
     "hide_input_from_viewers": true,
     "hide_output_from_viewers": true,
     "node_id": "GiBOk5yGEBej01451XtPbp",
     "type": "MD"
    }
   },
   "source": [
    "Глиомы являются наиболее распространенными первичными опухолями головного мозга. Они могут быть классифицированы как LGG (глиома низкой степени злокачественности) или GBM (мультиформная глиобластома) в зависимости от гистологических критериев / критериев визуализации. Клинические и молекулярные факторы/мутации также очень важны для процесса оценки. Молекулярные тесты стоят дорого, чтобы помочь точно диагностировать пациентов с глиомой. В этом наборе данных рассмотрены наиболее часто мутирующие 20 генов и 3 клинических признака из проектов TCGA-LGG и TCGA-GBM по глиоме головного мозга. Задача прогнозирования состоит в том, чтобы определить, является ли пациент LGG или GBM с заданными клиническими и молекулярными признаками / мутациями. Основная цель состоит в том, чтобы найти оптимальное подмножество мутационных генов и клинических признаков для процесса классификации глиомы с целью повышения производительности и снижения затрат."
   ]
  },
  {
   "cell_type": "markdown",
   "metadata": {
    "datalore": {
     "hide_input_from_viewers": true,
     "hide_output_from_viewers": true,
     "node_id": "UzYyfgstOeHUinkcqYNsai",
     "type": "MD"
    }
   },
   "source": [
    "## 1) Преобразование данных"
   ]
  },
  {
   "cell_type": "markdown",
   "metadata": {
    "datalore": {
     "hide_input_from_viewers": true,
     "hide_output_from_viewers": true,
     "node_id": "bMBj94HlrVst2bukI7rJ9H",
     "type": "MD"
    }
   },
   "source": [
    "### Первичные преобразования"
   ]
  },
  {
   "cell_type": "code",
   "execution_count": 3,
   "metadata": {
    "datalore": {
     "hide_input_from_viewers": true,
     "hide_output_from_viewers": true,
     "node_id": "whj1bQ2VpZqchJXJLoONSq",
     "type": "CODE"
    }
   },
   "outputs": [
    {
     "data": {
      "text/html": [
       "<div>\n",
       "<style scoped>\n",
       "    .dataframe tbody tr th:only-of-type {\n",
       "        vertical-align: middle;\n",
       "    }\n",
       "\n",
       "    .dataframe tbody tr th {\n",
       "        vertical-align: top;\n",
       "    }\n",
       "\n",
       "    .dataframe thead th {\n",
       "        text-align: right;\n",
       "    }\n",
       "</style>\n",
       "<table border=\"1\" class=\"dataframe\">\n",
       "  <thead>\n",
       "    <tr style=\"text-align: right;\">\n",
       "      <th></th>\n",
       "      <th>Grade</th>\n",
       "      <th>Case_ID</th>\n",
       "      <th>Gender</th>\n",
       "      <th>Age_at_diagnosis</th>\n",
       "      <th>Primary_Diagnosis</th>\n",
       "      <th>Race</th>\n",
       "      <th>IDH1</th>\n",
       "      <th>TP53</th>\n",
       "      <th>ATRX</th>\n",
       "      <th>PTEN</th>\n",
       "      <th>...</th>\n",
       "      <th>FUBP1</th>\n",
       "      <th>RB1</th>\n",
       "      <th>NOTCH1</th>\n",
       "      <th>BCOR</th>\n",
       "      <th>CSMD3</th>\n",
       "      <th>SMARCA4</th>\n",
       "      <th>GRIN2A</th>\n",
       "      <th>IDH2</th>\n",
       "      <th>FAT4</th>\n",
       "      <th>PDGFRA</th>\n",
       "    </tr>\n",
       "    <tr>\n",
       "      <th>Unnamed: 0</th>\n",
       "      <th></th>\n",
       "      <th></th>\n",
       "      <th></th>\n",
       "      <th></th>\n",
       "      <th></th>\n",
       "      <th></th>\n",
       "      <th></th>\n",
       "      <th></th>\n",
       "      <th></th>\n",
       "      <th></th>\n",
       "      <th></th>\n",
       "      <th></th>\n",
       "      <th></th>\n",
       "      <th></th>\n",
       "      <th></th>\n",
       "      <th></th>\n",
       "      <th></th>\n",
       "      <th></th>\n",
       "      <th></th>\n",
       "      <th></th>\n",
       "      <th></th>\n",
       "    </tr>\n",
       "  </thead>\n",
       "  <tbody>\n",
       "    <tr>\n",
       "      <th>0</th>\n",
       "      <td>GBM</td>\n",
       "      <td>TCGA-06-A6S0</td>\n",
       "      <td>Male</td>\n",
       "      <td>79 years 183 days</td>\n",
       "      <td>Glioblastoma</td>\n",
       "      <td>black or african american</td>\n",
       "      <td>NOT_MUTATED</td>\n",
       "      <td>NOT_MUTATED</td>\n",
       "      <td>NOT_MUTATED</td>\n",
       "      <td>NOT_MUTATED</td>\n",
       "      <td>...</td>\n",
       "      <td>NOT_MUTATED</td>\n",
       "      <td>NOT_MUTATED</td>\n",
       "      <td>NOT_MUTATED</td>\n",
       "      <td>NOT_MUTATED</td>\n",
       "      <td>NOT_MUTATED</td>\n",
       "      <td>NOT_MUTATED</td>\n",
       "      <td>NOT_MUTATED</td>\n",
       "      <td>NOT_MUTATED</td>\n",
       "      <td>NOT_MUTATED</td>\n",
       "      <td>NOT_MUTATED</td>\n",
       "    </tr>\n",
       "    <tr>\n",
       "      <th>1</th>\n",
       "      <td>LGG</td>\n",
       "      <td>TCGA-HT-8106</td>\n",
       "      <td>Male</td>\n",
       "      <td>53 years 197 days</td>\n",
       "      <td>Astrocytoma, anaplastic</td>\n",
       "      <td>white</td>\n",
       "      <td>MUTATED</td>\n",
       "      <td>MUTATED</td>\n",
       "      <td>NOT_MUTATED</td>\n",
       "      <td>NOT_MUTATED</td>\n",
       "      <td>...</td>\n",
       "      <td>NOT_MUTATED</td>\n",
       "      <td>NOT_MUTATED</td>\n",
       "      <td>NOT_MUTATED</td>\n",
       "      <td>NOT_MUTATED</td>\n",
       "      <td>NOT_MUTATED</td>\n",
       "      <td>NOT_MUTATED</td>\n",
       "      <td>NOT_MUTATED</td>\n",
       "      <td>NOT_MUTATED</td>\n",
       "      <td>MUTATED</td>\n",
       "      <td>NOT_MUTATED</td>\n",
       "    </tr>\n",
       "    <tr>\n",
       "      <th>2</th>\n",
       "      <td>LGG</td>\n",
       "      <td>TCGA-HT-7607</td>\n",
       "      <td>Female</td>\n",
       "      <td>61 years 305 days</td>\n",
       "      <td>Astrocytoma, NOS</td>\n",
       "      <td>white</td>\n",
       "      <td>MUTATED</td>\n",
       "      <td>NOT_MUTATED</td>\n",
       "      <td>NOT_MUTATED</td>\n",
       "      <td>NOT_MUTATED</td>\n",
       "      <td>...</td>\n",
       "      <td>NOT_MUTATED</td>\n",
       "      <td>NOT_MUTATED</td>\n",
       "      <td>NOT_MUTATED</td>\n",
       "      <td>NOT_MUTATED</td>\n",
       "      <td>NOT_MUTATED</td>\n",
       "      <td>NOT_MUTATED</td>\n",
       "      <td>NOT_MUTATED</td>\n",
       "      <td>NOT_MUTATED</td>\n",
       "      <td>NOT_MUTATED</td>\n",
       "      <td>NOT_MUTATED</td>\n",
       "    </tr>\n",
       "    <tr>\n",
       "      <th>3</th>\n",
       "      <td>LGG</td>\n",
       "      <td>TCGA-QH-A6X5</td>\n",
       "      <td>Female</td>\n",
       "      <td>58 years 55 days</td>\n",
       "      <td>Mixed glioma</td>\n",
       "      <td>white</td>\n",
       "      <td>MUTATED</td>\n",
       "      <td>NOT_MUTATED</td>\n",
       "      <td>NOT_MUTATED</td>\n",
       "      <td>NOT_MUTATED</td>\n",
       "      <td>...</td>\n",
       "      <td>NOT_MUTATED</td>\n",
       "      <td>NOT_MUTATED</td>\n",
       "      <td>NOT_MUTATED</td>\n",
       "      <td>MUTATED</td>\n",
       "      <td>NOT_MUTATED</td>\n",
       "      <td>NOT_MUTATED</td>\n",
       "      <td>NOT_MUTATED</td>\n",
       "      <td>NOT_MUTATED</td>\n",
       "      <td>NOT_MUTATED</td>\n",
       "      <td>NOT_MUTATED</td>\n",
       "    </tr>\n",
       "    <tr>\n",
       "      <th>4</th>\n",
       "      <td>LGG</td>\n",
       "      <td>TCGA-P5-A5F1</td>\n",
       "      <td>Male</td>\n",
       "      <td>30 years 113 days</td>\n",
       "      <td>Astrocytoma, NOS</td>\n",
       "      <td>white</td>\n",
       "      <td>MUTATED</td>\n",
       "      <td>MUTATED</td>\n",
       "      <td>MUTATED</td>\n",
       "      <td>NOT_MUTATED</td>\n",
       "      <td>...</td>\n",
       "      <td>NOT_MUTATED</td>\n",
       "      <td>NOT_MUTATED</td>\n",
       "      <td>NOT_MUTATED</td>\n",
       "      <td>NOT_MUTATED</td>\n",
       "      <td>NOT_MUTATED</td>\n",
       "      <td>NOT_MUTATED</td>\n",
       "      <td>NOT_MUTATED</td>\n",
       "      <td>NOT_MUTATED</td>\n",
       "      <td>NOT_MUTATED</td>\n",
       "      <td>NOT_MUTATED</td>\n",
       "    </tr>\n",
       "    <tr>\n",
       "      <th>...</th>\n",
       "      <td>...</td>\n",
       "      <td>...</td>\n",
       "      <td>...</td>\n",
       "      <td>...</td>\n",
       "      <td>...</td>\n",
       "      <td>...</td>\n",
       "      <td>...</td>\n",
       "      <td>...</td>\n",
       "      <td>...</td>\n",
       "      <td>...</td>\n",
       "      <td>...</td>\n",
       "      <td>...</td>\n",
       "      <td>...</td>\n",
       "      <td>...</td>\n",
       "      <td>...</td>\n",
       "      <td>...</td>\n",
       "      <td>...</td>\n",
       "      <td>...</td>\n",
       "      <td>...</td>\n",
       "      <td>...</td>\n",
       "      <td>...</td>\n",
       "    </tr>\n",
       "    <tr>\n",
       "      <th>598</th>\n",
       "      <td>GBM</td>\n",
       "      <td>TCGA-06-0744</td>\n",
       "      <td>Male</td>\n",
       "      <td>67 years</td>\n",
       "      <td>Glioblastoma</td>\n",
       "      <td>white</td>\n",
       "      <td>NOT_MUTATED</td>\n",
       "      <td>MUTATED</td>\n",
       "      <td>NOT_MUTATED</td>\n",
       "      <td>NOT_MUTATED</td>\n",
       "      <td>...</td>\n",
       "      <td>NOT_MUTATED</td>\n",
       "      <td>NOT_MUTATED</td>\n",
       "      <td>NOT_MUTATED</td>\n",
       "      <td>NOT_MUTATED</td>\n",
       "      <td>NOT_MUTATED</td>\n",
       "      <td>NOT_MUTATED</td>\n",
       "      <td>NOT_MUTATED</td>\n",
       "      <td>NOT_MUTATED</td>\n",
       "      <td>NOT_MUTATED</td>\n",
       "      <td>NOT_MUTATED</td>\n",
       "    </tr>\n",
       "    <tr>\n",
       "      <th>599</th>\n",
       "      <td>LGG</td>\n",
       "      <td>TCGA-DU-A6S7</td>\n",
       "      <td>Female</td>\n",
       "      <td>27 years 309 days</td>\n",
       "      <td>Astrocytoma, anaplastic</td>\n",
       "      <td>white</td>\n",
       "      <td>MUTATED</td>\n",
       "      <td>MUTATED</td>\n",
       "      <td>MUTATED</td>\n",
       "      <td>NOT_MUTATED</td>\n",
       "      <td>...</td>\n",
       "      <td>NOT_MUTATED</td>\n",
       "      <td>NOT_MUTATED</td>\n",
       "      <td>NOT_MUTATED</td>\n",
       "      <td>NOT_MUTATED</td>\n",
       "      <td>NOT_MUTATED</td>\n",
       "      <td>NOT_MUTATED</td>\n",
       "      <td>NOT_MUTATED</td>\n",
       "      <td>NOT_MUTATED</td>\n",
       "      <td>NOT_MUTATED</td>\n",
       "      <td>NOT_MUTATED</td>\n",
       "    </tr>\n",
       "    <tr>\n",
       "      <th>600</th>\n",
       "      <td>LGG</td>\n",
       "      <td>TCGA-DU-5853</td>\n",
       "      <td>Male</td>\n",
       "      <td>29 years 32 days</td>\n",
       "      <td>Mixed glioma</td>\n",
       "      <td>white</td>\n",
       "      <td>MUTATED</td>\n",
       "      <td>MUTATED</td>\n",
       "      <td>MUTATED</td>\n",
       "      <td>NOT_MUTATED</td>\n",
       "      <td>...</td>\n",
       "      <td>NOT_MUTATED</td>\n",
       "      <td>NOT_MUTATED</td>\n",
       "      <td>NOT_MUTATED</td>\n",
       "      <td>NOT_MUTATED</td>\n",
       "      <td>NOT_MUTATED</td>\n",
       "      <td>NOT_MUTATED</td>\n",
       "      <td>NOT_MUTATED</td>\n",
       "      <td>NOT_MUTATED</td>\n",
       "      <td>NOT_MUTATED</td>\n",
       "      <td>NOT_MUTATED</td>\n",
       "    </tr>\n",
       "    <tr>\n",
       "      <th>601</th>\n",
       "      <td>LGG</td>\n",
       "      <td>TCGA-DU-A76R</td>\n",
       "      <td>Male</td>\n",
       "      <td>51 years 312 days</td>\n",
       "      <td>Oligodendroglioma, anaplastic</td>\n",
       "      <td>white</td>\n",
       "      <td>MUTATED</td>\n",
       "      <td>NOT_MUTATED</td>\n",
       "      <td>NOT_MUTATED</td>\n",
       "      <td>NOT_MUTATED</td>\n",
       "      <td>...</td>\n",
       "      <td>NOT_MUTATED</td>\n",
       "      <td>NOT_MUTATED</td>\n",
       "      <td>NOT_MUTATED</td>\n",
       "      <td>NOT_MUTATED</td>\n",
       "      <td>NOT_MUTATED</td>\n",
       "      <td>NOT_MUTATED</td>\n",
       "      <td>NOT_MUTATED</td>\n",
       "      <td>NOT_MUTATED</td>\n",
       "      <td>NOT_MUTATED</td>\n",
       "      <td>NOT_MUTATED</td>\n",
       "    </tr>\n",
       "    <tr>\n",
       "      <th>602</th>\n",
       "      <td>LGG</td>\n",
       "      <td>TCGA-P5-A731</td>\n",
       "      <td>Female</td>\n",
       "      <td>59 years 166 days</td>\n",
       "      <td>Mixed glioma</td>\n",
       "      <td>white</td>\n",
       "      <td>MUTATED</td>\n",
       "      <td>NOT_MUTATED</td>\n",
       "      <td>NOT_MUTATED</td>\n",
       "      <td>NOT_MUTATED</td>\n",
       "      <td>...</td>\n",
       "      <td>NOT_MUTATED</td>\n",
       "      <td>NOT_MUTATED</td>\n",
       "      <td>NOT_MUTATED</td>\n",
       "      <td>NOT_MUTATED</td>\n",
       "      <td>NOT_MUTATED</td>\n",
       "      <td>NOT_MUTATED</td>\n",
       "      <td>NOT_MUTATED</td>\n",
       "      <td>NOT_MUTATED</td>\n",
       "      <td>NOT_MUTATED</td>\n",
       "      <td>NOT_MUTATED</td>\n",
       "    </tr>\n",
       "  </tbody>\n",
       "</table>\n",
       "<p>603 rows × 26 columns</p>\n",
       "</div>"
      ],
      "text/plain": [
       "           Grade       Case_ID  Gender   Age_at_diagnosis  \\\n",
       "Unnamed: 0                                                  \n",
       "0            GBM  TCGA-06-A6S0    Male  79 years 183 days   \n",
       "1            LGG  TCGA-HT-8106    Male  53 years 197 days   \n",
       "2            LGG  TCGA-HT-7607  Female  61 years 305 days   \n",
       "3            LGG  TCGA-QH-A6X5  Female   58 years 55 days   \n",
       "4            LGG  TCGA-P5-A5F1    Male  30 years 113 days   \n",
       "...          ...           ...     ...                ...   \n",
       "598          GBM  TCGA-06-0744    Male           67 years   \n",
       "599          LGG  TCGA-DU-A6S7  Female  27 years 309 days   \n",
       "600          LGG  TCGA-DU-5853    Male   29 years 32 days   \n",
       "601          LGG  TCGA-DU-A76R    Male  51 years 312 days   \n",
       "602          LGG  TCGA-P5-A731  Female  59 years 166 days   \n",
       "\n",
       "                        Primary_Diagnosis                       Race  \\\n",
       "Unnamed: 0                                                             \n",
       "0                            Glioblastoma  black or african american   \n",
       "1                 Astrocytoma, anaplastic                      white   \n",
       "2                        Astrocytoma, NOS                      white   \n",
       "3                            Mixed glioma                      white   \n",
       "4                        Astrocytoma, NOS                      white   \n",
       "...                                   ...                        ...   \n",
       "598                          Glioblastoma                      white   \n",
       "599               Astrocytoma, anaplastic                      white   \n",
       "600                          Mixed glioma                      white   \n",
       "601         Oligodendroglioma, anaplastic                      white   \n",
       "602                          Mixed glioma                      white   \n",
       "\n",
       "                   IDH1         TP53         ATRX         PTEN  ...  \\\n",
       "Unnamed: 0                                                      ...   \n",
       "0           NOT_MUTATED  NOT_MUTATED  NOT_MUTATED  NOT_MUTATED  ...   \n",
       "1               MUTATED      MUTATED  NOT_MUTATED  NOT_MUTATED  ...   \n",
       "2               MUTATED  NOT_MUTATED  NOT_MUTATED  NOT_MUTATED  ...   \n",
       "3               MUTATED  NOT_MUTATED  NOT_MUTATED  NOT_MUTATED  ...   \n",
       "4               MUTATED      MUTATED      MUTATED  NOT_MUTATED  ...   \n",
       "...                 ...          ...          ...          ...  ...   \n",
       "598         NOT_MUTATED      MUTATED  NOT_MUTATED  NOT_MUTATED  ...   \n",
       "599             MUTATED      MUTATED      MUTATED  NOT_MUTATED  ...   \n",
       "600             MUTATED      MUTATED      MUTATED  NOT_MUTATED  ...   \n",
       "601             MUTATED  NOT_MUTATED  NOT_MUTATED  NOT_MUTATED  ...   \n",
       "602             MUTATED  NOT_MUTATED  NOT_MUTATED  NOT_MUTATED  ...   \n",
       "\n",
       "                  FUBP1          RB1       NOTCH1         BCOR        CSMD3  \\\n",
       "Unnamed: 0                                                                    \n",
       "0           NOT_MUTATED  NOT_MUTATED  NOT_MUTATED  NOT_MUTATED  NOT_MUTATED   \n",
       "1           NOT_MUTATED  NOT_MUTATED  NOT_MUTATED  NOT_MUTATED  NOT_MUTATED   \n",
       "2           NOT_MUTATED  NOT_MUTATED  NOT_MUTATED  NOT_MUTATED  NOT_MUTATED   \n",
       "3           NOT_MUTATED  NOT_MUTATED  NOT_MUTATED      MUTATED  NOT_MUTATED   \n",
       "4           NOT_MUTATED  NOT_MUTATED  NOT_MUTATED  NOT_MUTATED  NOT_MUTATED   \n",
       "...                 ...          ...          ...          ...          ...   \n",
       "598         NOT_MUTATED  NOT_MUTATED  NOT_MUTATED  NOT_MUTATED  NOT_MUTATED   \n",
       "599         NOT_MUTATED  NOT_MUTATED  NOT_MUTATED  NOT_MUTATED  NOT_MUTATED   \n",
       "600         NOT_MUTATED  NOT_MUTATED  NOT_MUTATED  NOT_MUTATED  NOT_MUTATED   \n",
       "601         NOT_MUTATED  NOT_MUTATED  NOT_MUTATED  NOT_MUTATED  NOT_MUTATED   \n",
       "602         NOT_MUTATED  NOT_MUTATED  NOT_MUTATED  NOT_MUTATED  NOT_MUTATED   \n",
       "\n",
       "                SMARCA4       GRIN2A         IDH2         FAT4       PDGFRA  \n",
       "Unnamed: 0                                                                   \n",
       "0           NOT_MUTATED  NOT_MUTATED  NOT_MUTATED  NOT_MUTATED  NOT_MUTATED  \n",
       "1           NOT_MUTATED  NOT_MUTATED  NOT_MUTATED      MUTATED  NOT_MUTATED  \n",
       "2           NOT_MUTATED  NOT_MUTATED  NOT_MUTATED  NOT_MUTATED  NOT_MUTATED  \n",
       "3           NOT_MUTATED  NOT_MUTATED  NOT_MUTATED  NOT_MUTATED  NOT_MUTATED  \n",
       "4           NOT_MUTATED  NOT_MUTATED  NOT_MUTATED  NOT_MUTATED  NOT_MUTATED  \n",
       "...                 ...          ...          ...          ...          ...  \n",
       "598         NOT_MUTATED  NOT_MUTATED  NOT_MUTATED  NOT_MUTATED  NOT_MUTATED  \n",
       "599         NOT_MUTATED  NOT_MUTATED  NOT_MUTATED  NOT_MUTATED  NOT_MUTATED  \n",
       "600         NOT_MUTATED  NOT_MUTATED  NOT_MUTATED  NOT_MUTATED  NOT_MUTATED  \n",
       "601         NOT_MUTATED  NOT_MUTATED  NOT_MUTATED  NOT_MUTATED  NOT_MUTATED  \n",
       "602         NOT_MUTATED  NOT_MUTATED  NOT_MUTATED  NOT_MUTATED  NOT_MUTATED  \n",
       "\n",
       "[603 rows x 26 columns]"
      ]
     },
     "execution_count": 3,
     "metadata": {},
     "output_type": "execute_result"
    }
   ],
   "source": [
    "data_train = pd.read_csv(\"./data/train.csv\", sep=',').set_index('Unnamed: 0') # считывание датасета (используем первый столбец без названия как индекс)\n",
    "data_validation = pd.read_csv(\"./data/test.csv\", sep=',').set_index('Unnamed: 0')\n",
    "data_train"
   ]
  },
  {
   "cell_type": "markdown",
   "metadata": {
    "datalore": {
     "hide_input_from_viewers": true,
     "hide_output_from_viewers": true,
     "node_id": "2c9GaAZymjmlISOgr79JGt",
     "type": "MD"
    }
   },
   "source": [
    "* \"Grade\" — таргет, означающий тип опухоли головного мозга, LGG или GBM. (тип - категориальный, бинарный)\n",
    "* \"Case_ID\" — уникальный идентификатор пациента. (тип - категориальный)\n",
    "* \"Gender\" — первый клинический признак, пол пациента. (тип - категориальный, бинарный)\n",
    "* \"Age_at_diagnosis\" — второй клинический признак, возраст пациента. (тип ~ числовой)\n",
    "* \"Primary_Diagnosis\" — первичный поставленный диагноз. (тип - категориальный)\n",
    "* \"Race\" — третий клинический признак, раса пациента. (тип - категориальный)\n",
    "* Остальные столбцы — гены. (тип - категориальный, бинарный)"
   ]
  },
  {
   "cell_type": "code",
   "execution_count": 4,
   "metadata": {
    "datalore": {
     "hide_input_from_viewers": true,
     "hide_output_from_viewers": true,
     "node_id": "SnW5cRcmpYHheyKbFcSTf1",
     "type": "CODE"
    }
   },
   "outputs": [
    {
     "data": {
      "text/html": [
       "<div>\n",
       "<style scoped>\n",
       "    .dataframe tbody tr th:only-of-type {\n",
       "        vertical-align: middle;\n",
       "    }\n",
       "\n",
       "    .dataframe tbody tr th {\n",
       "        vertical-align: top;\n",
       "    }\n",
       "\n",
       "    .dataframe thead th {\n",
       "        text-align: right;\n",
       "    }\n",
       "</style>\n",
       "<table border=\"1\" class=\"dataframe\">\n",
       "  <thead>\n",
       "    <tr style=\"text-align: right;\">\n",
       "      <th></th>\n",
       "      <th>Grade</th>\n",
       "      <th>Case_ID</th>\n",
       "      <th>Gender</th>\n",
       "      <th>Age_at_diagnosis</th>\n",
       "      <th>Primary_Diagnosis</th>\n",
       "      <th>Race</th>\n",
       "      <th>IDH1</th>\n",
       "      <th>TP53</th>\n",
       "      <th>ATRX</th>\n",
       "      <th>PTEN</th>\n",
       "      <th>...</th>\n",
       "      <th>FUBP1</th>\n",
       "      <th>RB1</th>\n",
       "      <th>NOTCH1</th>\n",
       "      <th>BCOR</th>\n",
       "      <th>CSMD3</th>\n",
       "      <th>SMARCA4</th>\n",
       "      <th>GRIN2A</th>\n",
       "      <th>IDH2</th>\n",
       "      <th>FAT4</th>\n",
       "      <th>PDGFRA</th>\n",
       "    </tr>\n",
       "  </thead>\n",
       "  <tbody>\n",
       "    <tr>\n",
       "      <th>count</th>\n",
       "      <td>603</td>\n",
       "      <td>603</td>\n",
       "      <td>603</td>\n",
       "      <td>603</td>\n",
       "      <td>603</td>\n",
       "      <td>603</td>\n",
       "      <td>603</td>\n",
       "      <td>603</td>\n",
       "      <td>603</td>\n",
       "      <td>603</td>\n",
       "      <td>...</td>\n",
       "      <td>603</td>\n",
       "      <td>603</td>\n",
       "      <td>603</td>\n",
       "      <td>603</td>\n",
       "      <td>603</td>\n",
       "      <td>603</td>\n",
       "      <td>603</td>\n",
       "      <td>603</td>\n",
       "      <td>603</td>\n",
       "      <td>603</td>\n",
       "    </tr>\n",
       "    <tr>\n",
       "      <th>unique</th>\n",
       "      <td>2</td>\n",
       "      <td>603</td>\n",
       "      <td>3</td>\n",
       "      <td>595</td>\n",
       "      <td>7</td>\n",
       "      <td>6</td>\n",
       "      <td>2</td>\n",
       "      <td>2</td>\n",
       "      <td>2</td>\n",
       "      <td>2</td>\n",
       "      <td>...</td>\n",
       "      <td>2</td>\n",
       "      <td>2</td>\n",
       "      <td>2</td>\n",
       "      <td>2</td>\n",
       "      <td>2</td>\n",
       "      <td>2</td>\n",
       "      <td>2</td>\n",
       "      <td>2</td>\n",
       "      <td>2</td>\n",
       "      <td>2</td>\n",
       "    </tr>\n",
       "    <tr>\n",
       "      <th>top</th>\n",
       "      <td>LGG</td>\n",
       "      <td>TCGA-06-A6S0</td>\n",
       "      <td>Male</td>\n",
       "      <td>53 years 233 days</td>\n",
       "      <td>Glioblastoma</td>\n",
       "      <td>white</td>\n",
       "      <td>NOT_MUTATED</td>\n",
       "      <td>NOT_MUTATED</td>\n",
       "      <td>NOT_MUTATED</td>\n",
       "      <td>NOT_MUTATED</td>\n",
       "      <td>...</td>\n",
       "      <td>NOT_MUTATED</td>\n",
       "      <td>NOT_MUTATED</td>\n",
       "      <td>NOT_MUTATED</td>\n",
       "      <td>NOT_MUTATED</td>\n",
       "      <td>NOT_MUTATED</td>\n",
       "      <td>NOT_MUTATED</td>\n",
       "      <td>NOT_MUTATED</td>\n",
       "      <td>NOT_MUTATED</td>\n",
       "      <td>NOT_MUTATED</td>\n",
       "      <td>NOT_MUTATED</td>\n",
       "    </tr>\n",
       "    <tr>\n",
       "      <th>freq</th>\n",
       "      <td>349</td>\n",
       "      <td>1</td>\n",
       "      <td>350</td>\n",
       "      <td>2</td>\n",
       "      <td>253</td>\n",
       "      <td>537</td>\n",
       "      <td>319</td>\n",
       "      <td>357</td>\n",
       "      <td>458</td>\n",
       "      <td>501</td>\n",
       "      <td>...</td>\n",
       "      <td>569</td>\n",
       "      <td>576</td>\n",
       "      <td>578</td>\n",
       "      <td>582</td>\n",
       "      <td>582</td>\n",
       "      <td>584</td>\n",
       "      <td>583</td>\n",
       "      <td>585</td>\n",
       "      <td>588</td>\n",
       "      <td>585</td>\n",
       "    </tr>\n",
       "  </tbody>\n",
       "</table>\n",
       "<p>4 rows × 26 columns</p>\n",
       "</div>"
      ],
      "text/plain": [
       "       Grade       Case_ID Gender   Age_at_diagnosis Primary_Diagnosis   Race  \\\n",
       "count    603           603    603                603               603    603   \n",
       "unique     2           603      3                595                 7      6   \n",
       "top      LGG  TCGA-06-A6S0   Male  53 years 233 days      Glioblastoma  white   \n",
       "freq     349             1    350                  2               253    537   \n",
       "\n",
       "               IDH1         TP53         ATRX         PTEN  ...        FUBP1  \\\n",
       "count           603          603          603          603  ...          603   \n",
       "unique            2            2            2            2  ...            2   \n",
       "top     NOT_MUTATED  NOT_MUTATED  NOT_MUTATED  NOT_MUTATED  ...  NOT_MUTATED   \n",
       "freq            319          357          458          501  ...          569   \n",
       "\n",
       "                RB1       NOTCH1         BCOR        CSMD3      SMARCA4  \\\n",
       "count           603          603          603          603          603   \n",
       "unique            2            2            2            2            2   \n",
       "top     NOT_MUTATED  NOT_MUTATED  NOT_MUTATED  NOT_MUTATED  NOT_MUTATED   \n",
       "freq            576          578          582          582          584   \n",
       "\n",
       "             GRIN2A         IDH2         FAT4       PDGFRA  \n",
       "count           603          603          603          603  \n",
       "unique            2            2            2            2  \n",
       "top     NOT_MUTATED  NOT_MUTATED  NOT_MUTATED  NOT_MUTATED  \n",
       "freq            583          585          588          585  \n",
       "\n",
       "[4 rows x 26 columns]"
      ]
     },
     "execution_count": 4,
     "metadata": {},
     "output_type": "execute_result"
    }
   ],
   "source": [
    "data_train.describe()"
   ]
  },
  {
   "cell_type": "markdown",
   "metadata": {
    "datalore": {
     "hide_input_from_viewers": true,
     "hide_output_from_viewers": true,
     "node_id": "65K0tYwRd7Z3obBgnfaXAU",
     "type": "MD"
    }
   },
   "source": [
    "* Столбец \"Case_ID\" — просто уникальный идентификатор пациента, что не должен влиять на наличие у него LGG или GBM, поэтому его тоже можно удалить.\n",
    "  \n",
    "* Столбец \"Primary_Diagnosis\" — первичный поставленный диагноз, удаляем, так как предсказание должно основываться на генах и клинических признаках по условию задачи."
   ]
  },
  {
   "cell_type": "code",
   "execution_count": 5,
   "metadata": {
    "datalore": {
     "hide_input_from_viewers": true,
     "hide_output_from_viewers": true,
     "node_id": "oKy677iYgDSp4rz20ZKeo4",
     "type": "CODE"
    }
   },
   "outputs": [],
   "source": [
    "data_train = data_train.drop(columns=[\"Case_ID\", \"Primary_Diagnosis\"]) # удаление столбцов\n",
    "data_validation = data_validation.drop(columns=[\"Case_ID\", \"Primary_Diagnosis\"]) # удаление столбцов"
   ]
  },
  {
   "cell_type": "code",
   "execution_count": 6,
   "metadata": {
    "datalore": {
     "hide_input_from_viewers": true,
     "hide_output_from_viewers": true,
     "node_id": "uLbnsfqozK2QGypazidKCs",
     "type": "CODE"
    }
   },
   "outputs": [
    {
     "name": "stdout",
     "output_type": "stream",
     "text": [
      "<class 'pandas.core.frame.DataFrame'>\n",
      "Index: 603 entries, 0 to 602\n",
      "Data columns (total 24 columns):\n",
      " #   Column            Non-Null Count  Dtype \n",
      "---  ------            --------------  ----- \n",
      " 0   Grade             603 non-null    object\n",
      " 1   Gender            603 non-null    object\n",
      " 2   Age_at_diagnosis  603 non-null    object\n",
      " 3   Race              603 non-null    object\n",
      " 4   IDH1              603 non-null    object\n",
      " 5   TP53              603 non-null    object\n",
      " 6   ATRX              603 non-null    object\n",
      " 7   PTEN              603 non-null    object\n",
      " 8   EGFR              603 non-null    object\n",
      " 9   CIC               603 non-null    object\n",
      " 10  MUC16             603 non-null    object\n",
      " 11  PIK3CA            603 non-null    object\n",
      " 12  NF1               603 non-null    object\n",
      " 13  PIK3R1            603 non-null    object\n",
      " 14  FUBP1             603 non-null    object\n",
      " 15  RB1               603 non-null    object\n",
      " 16  NOTCH1            603 non-null    object\n",
      " 17  BCOR              603 non-null    object\n",
      " 18  CSMD3             603 non-null    object\n",
      " 19  SMARCA4           603 non-null    object\n",
      " 20  GRIN2A            603 non-null    object\n",
      " 21  IDH2              603 non-null    object\n",
      " 22  FAT4              603 non-null    object\n",
      " 23  PDGFRA            603 non-null    object\n",
      "dtypes: object(24)\n",
      "memory usage: 117.8+ KB\n"
     ]
    }
   ],
   "source": [
    "data_train = data_train.drop(data_train[data_train.duplicated()].index) # проверка на дублирующиеся данные в датасете\n",
    "data_train.info() # вывод информации о данных"
   ]
  },
  {
   "cell_type": "markdown",
   "metadata": {
    "datalore": {
     "hide_input_from_viewers": true,
     "hide_output_from_viewers": true,
     "node_id": "SOFkPji7nUXKkvmiwBAC1e",
     "type": "MD"
    }
   },
   "source": [
    "        В данных нет дубликатов."
   ]
  },
  {
   "cell_type": "code",
   "execution_count": 7,
   "metadata": {
    "datalore": {
     "hide_input_from_viewers": true,
     "hide_output_from_viewers": true,
     "node_id": "zAxlWktu1uO20CYEcYfNXo",
     "type": "CODE"
    }
   },
   "outputs": [],
   "source": [
    "# ищем строки с \"плохими\"/\"мусорными\" значениями и заменяем их самыми частыми значениями по датасету\n",
    "for row in range(data_train.shape[0]): # идём по строкам\n",
    "    for col in data_train.columns: # идём по столбцам\n",
    "        if data_train.loc[row][col] in [\"--\", \"not reported\"]: # если в строке встретилось \"мусорное\" значение у признака\n",
    "            data_train.loc[row][col] = data_train.describe()[col][\"top\"] # заменяем его на самое часто встречаемое\n",
    "\n",
    "# аналогично для валидационного датасета\n",
    "for row in range(data_validation.shape[0]): # идём по строкам\n",
    "    for col in data_validation.columns: # идём по столбцам\n",
    "        if data_validation.loc[row][col] in [\"--\", \"not reported\"]: # если в строке встретилось \"мусорное\" значение у признака\n",
    "            data_validation.loc[row][col] = data_train.describe()[col][\"top\"] # заменяем его на самое часто встречаемое"
   ]
  },
  {
   "cell_type": "code",
   "execution_count": 8,
   "metadata": {
    "datalore": {
     "hide_input_from_viewers": true,
     "hide_output_from_viewers": true,
     "node_id": "xIxKqFTx4xRBzj1yhDfh9L",
     "type": "CODE"
    }
   },
   "outputs": [],
   "source": [
    "# преобразуем числовой признак - возраст (строку) в число (Continuous признак)\n",
    "for i in range(data_train.shape[0]): # идём по строкам\n",
    "    row = data_train[\"Age_at_diagnosis\"][i].split() # берём строку и разделяем её по пробелам\n",
    "    data_train[\"Age_at_diagnosis\"][i] = round(int(row[0]) + (int(row[2])/365 if len(row)==4 else 0), 4) # преобразовываем строку, беря из неё числа - года и дни/365 (останавливаемся на 4 знаках после запятой)\n",
    "data_train[\"Age_at_diagnosis\"] = data_train[\"Age_at_diagnosis\"].astype(float) # кастим в float тип\n",
    "\n",
    "# аналогично для валидационного датасета\n",
    "for i in range(data_validation.shape[0]): # идём по строкам\n",
    "    row = data_validation[\"Age_at_diagnosis\"][i].split() # берём строку и разделяем её по пробелам\n",
    "    data_validation[\"Age_at_diagnosis\"][i] = round(int(row[0]) + (int(row[2])/365 if len(row)==4 else 0), 4) # преобразовываем строку, беря из неё числа - года и дни/365 (останавливаемся на 4 знаках после запятой)\n",
    "data_validation[\"Age_at_diagnosis\"] = data_train[\"Age_at_diagnosis\"].astype(float) # кастим в float тип"
   ]
  },
  {
   "cell_type": "code",
   "execution_count": 9,
   "metadata": {
    "datalore": {
     "hide_input_from_viewers": true,
     "hide_output_from_viewers": true,
     "node_id": "aBLXYNsQVo9XZKlMOutpH9",
     "type": "CODE"
    }
   },
   "outputs": [],
   "source": [
    "# скалируем значение возраста, так как он сильно выбивается по значениям\n",
    "age_scale = MinMaxScaler().fit(torch.tensor(data_train[\"Age_at_diagnosis\"].values.reshape((-1,1)))) # готовим скейлер для данных о возрасте (reshape((-1,1)) - данные в виде одного столбца)\n",
    "\n",
    "data_train[\"Age_at_diagnosis\"] = age_scale.transform(torch.tensor(data_train[\"Age_at_diagnosis\"].values.reshape((-1,1)))) # трансформируем данные\n",
    "data_validation[\"Age_at_diagnosis\"] = age_scale.transform(torch.tensor(data_validation[\"Age_at_diagnosis\"].values.reshape((-1,1)))) # трансформируем данные"
   ]
  },
  {
   "cell_type": "code",
   "execution_count": 10,
   "metadata": {
    "datalore": {
     "hide_input_from_viewers": true,
     "hide_output_from_viewers": true,
     "node_id": "YZwI0z9cEMKGr1Nd3GvKWi",
     "type": "CODE"
    }
   },
   "outputs": [],
   "source": [
    "# преобразуем категориальные признаки (строки) в числа (LABEL ENCODING)\n",
    "data_train['Grade'].replace(['LGG', 'GBM'], [0, 1], inplace=True)\n",
    "data_train['Gender'].replace(['Male', 'Female'], [0, 1], inplace=True)\n",
    "data_train['Race'].replace(['white', 'asian', 'black or african american', 'american indian or alaska native'], [0, 1, 2, 3], inplace=True)\n",
    "for col in data_train.columns[4:]:\n",
    "    data_train[col].replace(['NOT_MUTATED', 'MUTATED'], [0, 1], inplace=True)\n",
    "\n",
    "# аналогично для валидационного датасета\n",
    "data_validation['Gender'].replace(['Male', 'Female'], [0, 1], inplace=True)\n",
    "data_validation['Race'].replace(['white', 'asian', 'black or african american', 'american indian or alaska native'], [0, 1, 2, 3], inplace=True)\n",
    "for col in data_validation.columns[3:]: # с третьего столбца, так как столбец \"Grade\" отсутствует\n",
    "    data_validation[col].replace(['NOT_MUTATED', 'MUTATED'], [0, 1], inplace=True)"
   ]
  },
  {
   "cell_type": "code",
   "execution_count": 11,
   "metadata": {
    "datalore": {
     "hide_input_from_viewers": true,
     "hide_output_from_viewers": true,
     "node_id": "Q9sByaQkdYcYrLjYyNnL6j",
     "type": "CODE"
    }
   },
   "outputs": [
    {
     "data": {
      "text/html": [
       "<div>\n",
       "<style scoped>\n",
       "    .dataframe tbody tr th:only-of-type {\n",
       "        vertical-align: middle;\n",
       "    }\n",
       "\n",
       "    .dataframe tbody tr th {\n",
       "        vertical-align: top;\n",
       "    }\n",
       "\n",
       "    .dataframe thead th {\n",
       "        text-align: right;\n",
       "    }\n",
       "</style>\n",
       "<table border=\"1\" class=\"dataframe\">\n",
       "  <thead>\n",
       "    <tr style=\"text-align: right;\">\n",
       "      <th></th>\n",
       "      <th>Grade</th>\n",
       "      <th>Gender</th>\n",
       "      <th>Age_at_diagnosis</th>\n",
       "      <th>Race</th>\n",
       "      <th>IDH1</th>\n",
       "      <th>TP53</th>\n",
       "      <th>ATRX</th>\n",
       "      <th>PTEN</th>\n",
       "      <th>EGFR</th>\n",
       "      <th>CIC</th>\n",
       "      <th>...</th>\n",
       "      <th>FUBP1</th>\n",
       "      <th>RB1</th>\n",
       "      <th>NOTCH1</th>\n",
       "      <th>BCOR</th>\n",
       "      <th>CSMD3</th>\n",
       "      <th>SMARCA4</th>\n",
       "      <th>GRIN2A</th>\n",
       "      <th>IDH2</th>\n",
       "      <th>FAT4</th>\n",
       "      <th>PDGFRA</th>\n",
       "    </tr>\n",
       "    <tr>\n",
       "      <th>Unnamed: 0</th>\n",
       "      <th></th>\n",
       "      <th></th>\n",
       "      <th></th>\n",
       "      <th></th>\n",
       "      <th></th>\n",
       "      <th></th>\n",
       "      <th></th>\n",
       "      <th></th>\n",
       "      <th></th>\n",
       "      <th></th>\n",
       "      <th></th>\n",
       "      <th></th>\n",
       "      <th></th>\n",
       "      <th></th>\n",
       "      <th></th>\n",
       "      <th></th>\n",
       "      <th></th>\n",
       "      <th></th>\n",
       "      <th></th>\n",
       "      <th></th>\n",
       "      <th></th>\n",
       "    </tr>\n",
       "  </thead>\n",
       "  <tbody>\n",
       "    <tr>\n",
       "      <th>0</th>\n",
       "      <td>1</td>\n",
       "      <td>0</td>\n",
       "      <td>0.869282</td>\n",
       "      <td>2</td>\n",
       "      <td>0</td>\n",
       "      <td>0</td>\n",
       "      <td>0</td>\n",
       "      <td>0</td>\n",
       "      <td>0</td>\n",
       "      <td>0</td>\n",
       "      <td>...</td>\n",
       "      <td>0</td>\n",
       "      <td>0</td>\n",
       "      <td>0</td>\n",
       "      <td>0</td>\n",
       "      <td>0</td>\n",
       "      <td>0</td>\n",
       "      <td>0</td>\n",
       "      <td>0</td>\n",
       "      <td>0</td>\n",
       "      <td>0</td>\n",
       "    </tr>\n",
       "    <tr>\n",
       "      <th>1</th>\n",
       "      <td>0</td>\n",
       "      <td>0</td>\n",
       "      <td>0.522506</td>\n",
       "      <td>0</td>\n",
       "      <td>1</td>\n",
       "      <td>1</td>\n",
       "      <td>0</td>\n",
       "      <td>0</td>\n",
       "      <td>0</td>\n",
       "      <td>0</td>\n",
       "      <td>...</td>\n",
       "      <td>0</td>\n",
       "      <td>0</td>\n",
       "      <td>0</td>\n",
       "      <td>0</td>\n",
       "      <td>0</td>\n",
       "      <td>0</td>\n",
       "      <td>0</td>\n",
       "      <td>0</td>\n",
       "      <td>1</td>\n",
       "      <td>0</td>\n",
       "    </tr>\n",
       "    <tr>\n",
       "      <th>2</th>\n",
       "      <td>0</td>\n",
       "      <td>1</td>\n",
       "      <td>0.633316</td>\n",
       "      <td>0</td>\n",
       "      <td>1</td>\n",
       "      <td>0</td>\n",
       "      <td>0</td>\n",
       "      <td>0</td>\n",
       "      <td>0</td>\n",
       "      <td>0</td>\n",
       "      <td>...</td>\n",
       "      <td>0</td>\n",
       "      <td>0</td>\n",
       "      <td>0</td>\n",
       "      <td>0</td>\n",
       "      <td>0</td>\n",
       "      <td>0</td>\n",
       "      <td>0</td>\n",
       "      <td>0</td>\n",
       "      <td>0</td>\n",
       "      <td>0</td>\n",
       "    </tr>\n",
       "    <tr>\n",
       "      <th>3</th>\n",
       "      <td>0</td>\n",
       "      <td>1</td>\n",
       "      <td>0.584096</td>\n",
       "      <td>0</td>\n",
       "      <td>1</td>\n",
       "      <td>0</td>\n",
       "      <td>0</td>\n",
       "      <td>0</td>\n",
       "      <td>0</td>\n",
       "      <td>1</td>\n",
       "      <td>...</td>\n",
       "      <td>0</td>\n",
       "      <td>0</td>\n",
       "      <td>0</td>\n",
       "      <td>1</td>\n",
       "      <td>0</td>\n",
       "      <td>0</td>\n",
       "      <td>0</td>\n",
       "      <td>0</td>\n",
       "      <td>0</td>\n",
       "      <td>0</td>\n",
       "    </tr>\n",
       "    <tr>\n",
       "      <th>4</th>\n",
       "      <td>0</td>\n",
       "      <td>0</td>\n",
       "      <td>0.212216</td>\n",
       "      <td>0</td>\n",
       "      <td>1</td>\n",
       "      <td>1</td>\n",
       "      <td>1</td>\n",
       "      <td>0</td>\n",
       "      <td>0</td>\n",
       "      <td>0</td>\n",
       "      <td>...</td>\n",
       "      <td>0</td>\n",
       "      <td>0</td>\n",
       "      <td>0</td>\n",
       "      <td>0</td>\n",
       "      <td>0</td>\n",
       "      <td>0</td>\n",
       "      <td>0</td>\n",
       "      <td>0</td>\n",
       "      <td>0</td>\n",
       "      <td>0</td>\n",
       "    </tr>\n",
       "    <tr>\n",
       "      <th>...</th>\n",
       "      <td>...</td>\n",
       "      <td>...</td>\n",
       "      <td>...</td>\n",
       "      <td>...</td>\n",
       "      <td>...</td>\n",
       "      <td>...</td>\n",
       "      <td>...</td>\n",
       "      <td>...</td>\n",
       "      <td>...</td>\n",
       "      <td>...</td>\n",
       "      <td>...</td>\n",
       "      <td>...</td>\n",
       "      <td>...</td>\n",
       "      <td>...</td>\n",
       "      <td>...</td>\n",
       "      <td>...</td>\n",
       "      <td>...</td>\n",
       "      <td>...</td>\n",
       "      <td>...</td>\n",
       "      <td>...</td>\n",
       "      <td>...</td>\n",
       "    </tr>\n",
       "    <tr>\n",
       "      <th>598</th>\n",
       "      <td>1</td>\n",
       "      <td>0</td>\n",
       "      <td>0.702298</td>\n",
       "      <td>0</td>\n",
       "      <td>0</td>\n",
       "      <td>1</td>\n",
       "      <td>0</td>\n",
       "      <td>0</td>\n",
       "      <td>0</td>\n",
       "      <td>0</td>\n",
       "      <td>...</td>\n",
       "      <td>0</td>\n",
       "      <td>0</td>\n",
       "      <td>0</td>\n",
       "      <td>0</td>\n",
       "      <td>0</td>\n",
       "      <td>0</td>\n",
       "      <td>0</td>\n",
       "      <td>0</td>\n",
       "      <td>0</td>\n",
       "      <td>0</td>\n",
       "    </tr>\n",
       "    <tr>\n",
       "      <th>599</th>\n",
       "      <td>0</td>\n",
       "      <td>1</td>\n",
       "      <td>0.179317</td>\n",
       "      <td>0</td>\n",
       "      <td>1</td>\n",
       "      <td>1</td>\n",
       "      <td>1</td>\n",
       "      <td>0</td>\n",
       "      <td>0</td>\n",
       "      <td>0</td>\n",
       "      <td>...</td>\n",
       "      <td>0</td>\n",
       "      <td>0</td>\n",
       "      <td>0</td>\n",
       "      <td>0</td>\n",
       "      <td>0</td>\n",
       "      <td>0</td>\n",
       "      <td>0</td>\n",
       "      <td>0</td>\n",
       "      <td>0</td>\n",
       "      <td>0</td>\n",
       "    </tr>\n",
       "    <tr>\n",
       "      <th>600</th>\n",
       "      <td>0</td>\n",
       "      <td>0</td>\n",
       "      <td>0.195895</td>\n",
       "      <td>0</td>\n",
       "      <td>1</td>\n",
       "      <td>1</td>\n",
       "      <td>1</td>\n",
       "      <td>0</td>\n",
       "      <td>0</td>\n",
       "      <td>0</td>\n",
       "      <td>...</td>\n",
       "      <td>0</td>\n",
       "      <td>0</td>\n",
       "      <td>0</td>\n",
       "      <td>0</td>\n",
       "      <td>0</td>\n",
       "      <td>0</td>\n",
       "      <td>0</td>\n",
       "      <td>0</td>\n",
       "      <td>0</td>\n",
       "      <td>0</td>\n",
       "    </tr>\n",
       "    <tr>\n",
       "      <th>601</th>\n",
       "      <td>0</td>\n",
       "      <td>0</td>\n",
       "      <td>0.500000</td>\n",
       "      <td>0</td>\n",
       "      <td>1</td>\n",
       "      <td>0</td>\n",
       "      <td>0</td>\n",
       "      <td>0</td>\n",
       "      <td>0</td>\n",
       "      <td>0</td>\n",
       "      <td>...</td>\n",
       "      <td>0</td>\n",
       "      <td>0</td>\n",
       "      <td>0</td>\n",
       "      <td>0</td>\n",
       "      <td>0</td>\n",
       "      <td>0</td>\n",
       "      <td>0</td>\n",
       "      <td>0</td>\n",
       "      <td>0</td>\n",
       "      <td>0</td>\n",
       "    </tr>\n",
       "    <tr>\n",
       "      <th>602</th>\n",
       "      <td>0</td>\n",
       "      <td>1</td>\n",
       "      <td>0.601515</td>\n",
       "      <td>0</td>\n",
       "      <td>1</td>\n",
       "      <td>0</td>\n",
       "      <td>0</td>\n",
       "      <td>0</td>\n",
       "      <td>0</td>\n",
       "      <td>0</td>\n",
       "      <td>...</td>\n",
       "      <td>0</td>\n",
       "      <td>0</td>\n",
       "      <td>0</td>\n",
       "      <td>0</td>\n",
       "      <td>0</td>\n",
       "      <td>0</td>\n",
       "      <td>0</td>\n",
       "      <td>0</td>\n",
       "      <td>0</td>\n",
       "      <td>0</td>\n",
       "    </tr>\n",
       "  </tbody>\n",
       "</table>\n",
       "<p>603 rows × 24 columns</p>\n",
       "</div>"
      ],
      "text/plain": [
       "            Grade  Gender  Age_at_diagnosis  Race  IDH1  TP53  ATRX  PTEN  \\\n",
       "Unnamed: 0                                                                  \n",
       "0               1       0          0.869282     2     0     0     0     0   \n",
       "1               0       0          0.522506     0     1     1     0     0   \n",
       "2               0       1          0.633316     0     1     0     0     0   \n",
       "3               0       1          0.584096     0     1     0     0     0   \n",
       "4               0       0          0.212216     0     1     1     1     0   \n",
       "...           ...     ...               ...   ...   ...   ...   ...   ...   \n",
       "598             1       0          0.702298     0     0     1     0     0   \n",
       "599             0       1          0.179317     0     1     1     1     0   \n",
       "600             0       0          0.195895     0     1     1     1     0   \n",
       "601             0       0          0.500000     0     1     0     0     0   \n",
       "602             0       1          0.601515     0     1     0     0     0   \n",
       "\n",
       "            EGFR  CIC  ...  FUBP1  RB1  NOTCH1  BCOR  CSMD3  SMARCA4  GRIN2A  \\\n",
       "Unnamed: 0             ...                                                     \n",
       "0              0    0  ...      0    0       0     0      0        0       0   \n",
       "1              0    0  ...      0    0       0     0      0        0       0   \n",
       "2              0    0  ...      0    0       0     0      0        0       0   \n",
       "3              0    1  ...      0    0       0     1      0        0       0   \n",
       "4              0    0  ...      0    0       0     0      0        0       0   \n",
       "...          ...  ...  ...    ...  ...     ...   ...    ...      ...     ...   \n",
       "598            0    0  ...      0    0       0     0      0        0       0   \n",
       "599            0    0  ...      0    0       0     0      0        0       0   \n",
       "600            0    0  ...      0    0       0     0      0        0       0   \n",
       "601            0    0  ...      0    0       0     0      0        0       0   \n",
       "602            0    0  ...      0    0       0     0      0        0       0   \n",
       "\n",
       "            IDH2  FAT4  PDGFRA  \n",
       "Unnamed: 0                      \n",
       "0              0     0       0  \n",
       "1              0     1       0  \n",
       "2              0     0       0  \n",
       "3              0     0       0  \n",
       "4              0     0       0  \n",
       "...          ...   ...     ...  \n",
       "598            0     0       0  \n",
       "599            0     0       0  \n",
       "600            0     0       0  \n",
       "601            0     0       0  \n",
       "602            0     0       0  \n",
       "\n",
       "[603 rows x 24 columns]"
      ]
     },
     "execution_count": 11,
     "metadata": {},
     "output_type": "execute_result"
    }
   ],
   "source": [
    "data_train # вывод датасета после первичных преобразований"
   ]
  },
  {
   "cell_type": "markdown",
   "metadata": {
    "datalore": {
     "hide_input_from_viewers": true,
     "hide_output_from_viewers": true,
     "node_id": "jEPGBTVnDAgfTCFOxIi79G",
     "type": "MD"
    }
   },
   "source": [
    "### Корреляционный анализ признаков"
   ]
  },
  {
   "cell_type": "code",
   "execution_count": 12,
   "metadata": {
    "datalore": {
     "hide_input_from_viewers": true,
     "hide_output_from_viewers": true,
     "node_id": "YApxDK8Jvx8cph2kspdFG1",
     "type": "CODE"
    }
   },
   "outputs": [
    {
     "data": {
      "text/html": [
       "<div>\n",
       "<style scoped>\n",
       "    .dataframe tbody tr th:only-of-type {\n",
       "        vertical-align: middle;\n",
       "    }\n",
       "\n",
       "    .dataframe tbody tr th {\n",
       "        vertical-align: top;\n",
       "    }\n",
       "\n",
       "    .dataframe thead th {\n",
       "        text-align: right;\n",
       "    }\n",
       "</style>\n",
       "<table border=\"1\" class=\"dataframe\">\n",
       "  <thead>\n",
       "    <tr style=\"text-align: right;\">\n",
       "      <th></th>\n",
       "      <th>Grade</th>\n",
       "      <th>Gender</th>\n",
       "      <th>Age_at_diagnosis</th>\n",
       "      <th>Race</th>\n",
       "      <th>IDH1</th>\n",
       "      <th>TP53</th>\n",
       "      <th>ATRX</th>\n",
       "      <th>PTEN</th>\n",
       "      <th>EGFR</th>\n",
       "      <th>CIC</th>\n",
       "      <th>...</th>\n",
       "      <th>FUBP1</th>\n",
       "      <th>RB1</th>\n",
       "      <th>NOTCH1</th>\n",
       "      <th>BCOR</th>\n",
       "      <th>CSMD3</th>\n",
       "      <th>SMARCA4</th>\n",
       "      <th>GRIN2A</th>\n",
       "      <th>IDH2</th>\n",
       "      <th>FAT4</th>\n",
       "      <th>PDGFRA</th>\n",
       "    </tr>\n",
       "  </thead>\n",
       "  <tbody>\n",
       "    <tr>\n",
       "      <th>Grade</th>\n",
       "      <td>1.000000</td>\n",
       "      <td>-0.075924</td>\n",
       "      <td>0.522957</td>\n",
       "      <td>0.113358</td>\n",
       "      <td>-0.717475</td>\n",
       "      <td>-0.147768</td>\n",
       "      <td>-0.338552</td>\n",
       "      <td>0.385557</td>\n",
       "      <td>0.230718</td>\n",
       "      <td>-0.303952</td>\n",
       "      <td>...</td>\n",
       "      <td>-0.193978</td>\n",
       "      <td>0.221305</td>\n",
       "      <td>-0.177423</td>\n",
       "      <td>0.002825</td>\n",
       "      <td>0.057784</td>\n",
       "      <td>-0.096197</td>\n",
       "      <td>0.123329</td>\n",
       "      <td>-0.110172</td>\n",
       "      <td>0.014699</td>\n",
       "      <td>0.126668</td>\n",
       "    </tr>\n",
       "    <tr>\n",
       "      <th>Gender</th>\n",
       "      <td>-0.075924</td>\n",
       "      <td>1.000000</td>\n",
       "      <td>-0.002343</td>\n",
       "      <td>-0.018563</td>\n",
       "      <td>0.062736</td>\n",
       "      <td>0.015011</td>\n",
       "      <td>0.058244</td>\n",
       "      <td>-0.023560</td>\n",
       "      <td>0.005622</td>\n",
       "      <td>0.055183</td>\n",
       "      <td>...</td>\n",
       "      <td>0.011531</td>\n",
       "      <td>0.011648</td>\n",
       "      <td>0.009314</td>\n",
       "      <td>0.114144</td>\n",
       "      <td>0.040785</td>\n",
       "      <td>-0.018099</td>\n",
       "      <td>-0.006726</td>\n",
       "      <td>0.029195</td>\n",
       "      <td>0.123733</td>\n",
       "      <td>0.048953</td>\n",
       "    </tr>\n",
       "    <tr>\n",
       "      <th>Age_at_diagnosis</th>\n",
       "      <td>0.522957</td>\n",
       "      <td>-0.002343</td>\n",
       "      <td>1.000000</td>\n",
       "      <td>0.028455</td>\n",
       "      <td>-0.555532</td>\n",
       "      <td>-0.288076</td>\n",
       "      <td>-0.413830</td>\n",
       "      <td>0.266352</td>\n",
       "      <td>0.219903</td>\n",
       "      <td>-0.124835</td>\n",
       "      <td>...</td>\n",
       "      <td>-0.063734</td>\n",
       "      <td>0.093318</td>\n",
       "      <td>-0.082344</td>\n",
       "      <td>0.032273</td>\n",
       "      <td>0.032858</td>\n",
       "      <td>-0.085148</td>\n",
       "      <td>0.024922</td>\n",
       "      <td>-0.111380</td>\n",
       "      <td>0.018249</td>\n",
       "      <td>0.115461</td>\n",
       "    </tr>\n",
       "    <tr>\n",
       "      <th>Race</th>\n",
       "      <td>0.113358</td>\n",
       "      <td>-0.018563</td>\n",
       "      <td>0.028455</td>\n",
       "      <td>1.000000</td>\n",
       "      <td>-0.099464</td>\n",
       "      <td>-0.067426</td>\n",
       "      <td>-0.012439</td>\n",
       "      <td>0.036713</td>\n",
       "      <td>0.038428</td>\n",
       "      <td>-0.032489</td>\n",
       "      <td>...</td>\n",
       "      <td>-0.023565</td>\n",
       "      <td>-0.037977</td>\n",
       "      <td>-0.049330</td>\n",
       "      <td>-0.026030</td>\n",
       "      <td>-0.058833</td>\n",
       "      <td>-0.055865</td>\n",
       "      <td>-0.023782</td>\n",
       "      <td>0.016351</td>\n",
       "      <td>-0.010854</td>\n",
       "      <td>-0.018989</td>\n",
       "    </tr>\n",
       "    <tr>\n",
       "      <th>IDH1</th>\n",
       "      <td>-0.717475</td>\n",
       "      <td>0.062736</td>\n",
       "      <td>-0.555532</td>\n",
       "      <td>-0.099464</td>\n",
       "      <td>1.000000</td>\n",
       "      <td>0.325433</td>\n",
       "      <td>0.448625</td>\n",
       "      <td>-0.408016</td>\n",
       "      <td>-0.359233</td>\n",
       "      <td>0.316564</td>\n",
       "      <td>...</td>\n",
       "      <td>0.215861</td>\n",
       "      <td>-0.204284</td>\n",
       "      <td>0.153752</td>\n",
       "      <td>-0.016138</td>\n",
       "      <td>-0.052381</td>\n",
       "      <td>0.077052</td>\n",
       "      <td>-0.119102</td>\n",
       "      <td>-0.165509</td>\n",
       "      <td>-0.022712</td>\n",
       "      <td>-0.145986</td>\n",
       "    </tr>\n",
       "    <tr>\n",
       "      <th>TP53</th>\n",
       "      <td>-0.147768</td>\n",
       "      <td>0.015011</td>\n",
       "      <td>-0.288076</td>\n",
       "      <td>-0.067426</td>\n",
       "      <td>0.325433</td>\n",
       "      <td>1.000000</td>\n",
       "      <td>0.543596</td>\n",
       "      <td>-0.050514</td>\n",
       "      <td>-0.165497</td>\n",
       "      <td>-0.274921</td>\n",
       "      <td>...</td>\n",
       "      <td>-0.129770</td>\n",
       "      <td>0.130287</td>\n",
       "      <td>-0.037223</td>\n",
       "      <td>0.081588</td>\n",
       "      <td>0.063183</td>\n",
       "      <td>0.062755</td>\n",
       "      <td>-0.003000</td>\n",
       "      <td>-0.066294</td>\n",
       "      <td>0.040745</td>\n",
       "      <td>-0.026636</td>\n",
       "    </tr>\n",
       "    <tr>\n",
       "      <th>ATRX</th>\n",
       "      <td>-0.338552</td>\n",
       "      <td>0.058244</td>\n",
       "      <td>-0.413830</td>\n",
       "      <td>-0.012439</td>\n",
       "      <td>0.448625</td>\n",
       "      <td>0.543596</td>\n",
       "      <td>1.000000</td>\n",
       "      <td>-0.181425</td>\n",
       "      <td>-0.151426</td>\n",
       "      <td>-0.174304</td>\n",
       "      <td>...</td>\n",
       "      <td>-0.103896</td>\n",
       "      <td>-0.046768</td>\n",
       "      <td>-0.019692</td>\n",
       "      <td>0.020113</td>\n",
       "      <td>0.020113</td>\n",
       "      <td>0.098432</td>\n",
       "      <td>0.004133</td>\n",
       "      <td>-0.007487</td>\n",
       "      <td>0.034708</td>\n",
       "      <td>-0.007487</td>\n",
       "    </tr>\n",
       "    <tr>\n",
       "      <th>PTEN</th>\n",
       "      <td>0.385557</td>\n",
       "      <td>-0.023560</td>\n",
       "      <td>0.266352</td>\n",
       "      <td>0.036713</td>\n",
       "      <td>-0.408016</td>\n",
       "      <td>-0.050514</td>\n",
       "      <td>-0.181425</td>\n",
       "      <td>1.000000</td>\n",
       "      <td>0.188669</td>\n",
       "      <td>-0.137350</td>\n",
       "      <td>...</td>\n",
       "      <td>-0.091119</td>\n",
       "      <td>0.116207</td>\n",
       "      <td>-0.071649</td>\n",
       "      <td>0.059060</td>\n",
       "      <td>0.059060</td>\n",
       "      <td>-0.056063</td>\n",
       "      <td>0.114052</td>\n",
       "      <td>-0.053153</td>\n",
       "      <td>-0.015261</td>\n",
       "      <td>-0.001164</td>\n",
       "    </tr>\n",
       "    <tr>\n",
       "      <th>EGFR</th>\n",
       "      <td>0.230718</td>\n",
       "      <td>0.005622</td>\n",
       "      <td>0.219903</td>\n",
       "      <td>0.038428</td>\n",
       "      <td>-0.359233</td>\n",
       "      <td>-0.165497</td>\n",
       "      <td>-0.151426</td>\n",
       "      <td>0.188669</td>\n",
       "      <td>1.000000</td>\n",
       "      <td>-0.109728</td>\n",
       "      <td>...</td>\n",
       "      <td>-0.053215</td>\n",
       "      <td>0.080796</td>\n",
       "      <td>-0.056815</td>\n",
       "      <td>-0.020961</td>\n",
       "      <td>0.192363</td>\n",
       "      <td>0.041399</td>\n",
       "      <td>0.200567</td>\n",
       "      <td>-0.039876</td>\n",
       "      <td>0.031702</td>\n",
       "      <td>0.075036</td>\n",
       "    </tr>\n",
       "    <tr>\n",
       "      <th>CIC</th>\n",
       "      <td>-0.303952</td>\n",
       "      <td>0.055183</td>\n",
       "      <td>-0.124835</td>\n",
       "      <td>-0.032489</td>\n",
       "      <td>0.316564</td>\n",
       "      <td>-0.274921</td>\n",
       "      <td>-0.174304</td>\n",
       "      <td>-0.137350</td>\n",
       "      <td>-0.109728</td>\n",
       "      <td>1.000000</td>\n",
       "      <td>...</td>\n",
       "      <td>0.476651</td>\n",
       "      <td>-0.013760</td>\n",
       "      <td>0.163899</td>\n",
       "      <td>0.112367</td>\n",
       "      <td>0.005705</td>\n",
       "      <td>0.041399</td>\n",
       "      <td>0.036763</td>\n",
       "      <td>0.132492</td>\n",
       "      <td>0.063092</td>\n",
       "      <td>0.017580</td>\n",
       "    </tr>\n",
       "    <tr>\n",
       "      <th>MUC16</th>\n",
       "      <td>0.146637</td>\n",
       "      <td>0.027068</td>\n",
       "      <td>0.080717</td>\n",
       "      <td>0.038170</td>\n",
       "      <td>-0.124064</td>\n",
       "      <td>-0.006105</td>\n",
       "      <td>-0.000410</td>\n",
       "      <td>0.057819</td>\n",
       "      <td>0.119249</td>\n",
       "      <td>-0.028891</td>\n",
       "      <td>...</td>\n",
       "      <td>-0.048557</td>\n",
       "      <td>0.064191</td>\n",
       "      <td>-0.027967</td>\n",
       "      <td>0.010636</td>\n",
       "      <td>0.120274</td>\n",
       "      <td>0.075852</td>\n",
       "      <td>0.126629</td>\n",
       "      <td>-0.007052</td>\n",
       "      <td>0.133395</td>\n",
       "      <td>0.170125</td>\n",
       "    </tr>\n",
       "    <tr>\n",
       "      <th>PIK3CA</th>\n",
       "      <td>-0.001954</td>\n",
       "      <td>0.011853</td>\n",
       "      <td>0.013730</td>\n",
       "      <td>0.037655</td>\n",
       "      <td>-0.021969</td>\n",
       "      <td>-0.063734</td>\n",
       "      <td>-0.097387</td>\n",
       "      <td>-0.081487</td>\n",
       "      <td>0.062881</td>\n",
       "      <td>0.096842</td>\n",
       "      <td>...</td>\n",
       "      <td>0.122333</td>\n",
       "      <td>0.042817</td>\n",
       "      <td>0.020796</td>\n",
       "      <td>0.034075</td>\n",
       "      <td>0.065493</td>\n",
       "      <td>0.008804</td>\n",
       "      <td>0.069986</td>\n",
       "      <td>0.012125</td>\n",
       "      <td>0.023368</td>\n",
       "      <td>0.012125</td>\n",
       "    </tr>\n",
       "    <tr>\n",
       "      <th>NF1</th>\n",
       "      <td>0.084143</td>\n",
       "      <td>-0.000742</td>\n",
       "      <td>0.099978</td>\n",
       "      <td>-0.024429</td>\n",
       "      <td>-0.228387</td>\n",
       "      <td>-0.069590</td>\n",
       "      <td>-0.079455</td>\n",
       "      <td>0.161478</td>\n",
       "      <td>0.011412</td>\n",
       "      <td>-0.006650</td>\n",
       "      <td>...</td>\n",
       "      <td>0.060920</td>\n",
       "      <td>0.114078</td>\n",
       "      <td>0.061773</td>\n",
       "      <td>0.044391</td>\n",
       "      <td>0.044391</td>\n",
       "      <td>0.017100</td>\n",
       "      <td>0.185027</td>\n",
       "      <td>0.020419</td>\n",
       "      <td>0.071044</td>\n",
       "      <td>0.092425</td>\n",
       "    </tr>\n",
       "    <tr>\n",
       "      <th>PIK3R1</th>\n",
       "      <td>0.075778</td>\n",
       "      <td>-0.034504</td>\n",
       "      <td>0.073539</td>\n",
       "      <td>0.083698</td>\n",
       "      <td>-0.047431</td>\n",
       "      <td>-0.057572</td>\n",
       "      <td>-0.046845</td>\n",
       "      <td>0.032097</td>\n",
       "      <td>0.001858</td>\n",
       "      <td>0.042600</td>\n",
       "      <td>...</td>\n",
       "      <td>0.087291</td>\n",
       "      <td>0.044883</td>\n",
       "      <td>0.016153</td>\n",
       "      <td>0.026815</td>\n",
       "      <td>0.064506</td>\n",
       "      <td>-0.006560</td>\n",
       "      <td>0.029821</td>\n",
       "      <td>-0.004242</td>\n",
       "      <td>0.181005</td>\n",
       "      <td>0.076970</td>\n",
       "    </tr>\n",
       "    <tr>\n",
       "      <th>FUBP1</th>\n",
       "      <td>-0.193978</td>\n",
       "      <td>0.011531</td>\n",
       "      <td>-0.063734</td>\n",
       "      <td>-0.023565</td>\n",
       "      <td>0.215861</td>\n",
       "      <td>-0.129770</td>\n",
       "      <td>-0.103896</td>\n",
       "      <td>-0.091119</td>\n",
       "      <td>-0.053215</td>\n",
       "      <td>0.476651</td>\n",
       "      <td>...</td>\n",
       "      <td>1.000000</td>\n",
       "      <td>0.016604</td>\n",
       "      <td>0.201618</td>\n",
       "      <td>0.071211</td>\n",
       "      <td>0.031996</td>\n",
       "      <td>0.038222</td>\n",
       "      <td>0.035022</td>\n",
       "      <td>0.041618</td>\n",
       "      <td>0.145606</td>\n",
       "      <td>0.041618</td>\n",
       "    </tr>\n",
       "    <tr>\n",
       "      <th>RB1</th>\n",
       "      <td>0.221305</td>\n",
       "      <td>0.011648</td>\n",
       "      <td>0.093318</td>\n",
       "      <td>-0.037977</td>\n",
       "      <td>-0.204284</td>\n",
       "      <td>0.130287</td>\n",
       "      <td>-0.046768</td>\n",
       "      <td>0.116207</td>\n",
       "      <td>0.080796</td>\n",
       "      <td>-0.013760</td>\n",
       "      <td>...</td>\n",
       "      <td>0.016604</td>\n",
       "      <td>1.000000</td>\n",
       "      <td>-0.004803</td>\n",
       "      <td>0.133823</td>\n",
       "      <td>0.090086</td>\n",
       "      <td>0.052754</td>\n",
       "      <td>0.228574</td>\n",
       "      <td>0.009143</td>\n",
       "      <td>0.119878</td>\n",
       "      <td>0.103384</td>\n",
       "    </tr>\n",
       "    <tr>\n",
       "      <th>NOTCH1</th>\n",
       "      <td>-0.177423</td>\n",
       "      <td>0.009314</td>\n",
       "      <td>-0.082344</td>\n",
       "      <td>-0.049330</td>\n",
       "      <td>0.153752</td>\n",
       "      <td>-0.037223</td>\n",
       "      <td>-0.019692</td>\n",
       "      <td>-0.071649</td>\n",
       "      <td>-0.056815</td>\n",
       "      <td>0.163899</td>\n",
       "      <td>...</td>\n",
       "      <td>0.201618</td>\n",
       "      <td>-0.004803</td>\n",
       "      <td>1.000000</td>\n",
       "      <td>0.051244</td>\n",
       "      <td>0.005869</td>\n",
       "      <td>0.057730</td>\n",
       "      <td>0.007935</td>\n",
       "      <td>0.012403</td>\n",
       "      <td>0.020196</td>\n",
       "      <td>0.012403</td>\n",
       "    </tr>\n",
       "    <tr>\n",
       "      <th>BCOR</th>\n",
       "      <td>0.002825</td>\n",
       "      <td>0.114144</td>\n",
       "      <td>0.032273</td>\n",
       "      <td>-0.026030</td>\n",
       "      <td>-0.016138</td>\n",
       "      <td>0.081588</td>\n",
       "      <td>0.020113</td>\n",
       "      <td>0.059060</td>\n",
       "      <td>-0.020961</td>\n",
       "      <td>0.112367</td>\n",
       "      <td>...</td>\n",
       "      <td>0.071211</td>\n",
       "      <td>0.133823</td>\n",
       "      <td>0.051244</td>\n",
       "      <td>1.000000</td>\n",
       "      <td>0.062592</td>\n",
       "      <td>0.069298</td>\n",
       "      <td>0.065842</td>\n",
       "      <td>0.072987</td>\n",
       "      <td>0.085817</td>\n",
       "      <td>0.179294</td>\n",
       "    </tr>\n",
       "    <tr>\n",
       "      <th>CSMD3</th>\n",
       "      <td>0.057784</td>\n",
       "      <td>0.040785</td>\n",
       "      <td>0.032858</td>\n",
       "      <td>-0.058833</td>\n",
       "      <td>-0.052381</td>\n",
       "      <td>0.063183</td>\n",
       "      <td>0.020113</td>\n",
       "      <td>0.059060</td>\n",
       "      <td>0.192363</td>\n",
       "      <td>0.005705</td>\n",
       "      <td>...</td>\n",
       "      <td>0.031996</td>\n",
       "      <td>0.090086</td>\n",
       "      <td>0.005869</td>\n",
       "      <td>0.062592</td>\n",
       "      <td>1.000000</td>\n",
       "      <td>0.224638</td>\n",
       "      <td>0.116354</td>\n",
       "      <td>0.019833</td>\n",
       "      <td>0.201973</td>\n",
       "      <td>0.126140</td>\n",
       "    </tr>\n",
       "    <tr>\n",
       "      <th>SMARCA4</th>\n",
       "      <td>-0.096197</td>\n",
       "      <td>-0.018099</td>\n",
       "      <td>-0.085148</td>\n",
       "      <td>-0.055865</td>\n",
       "      <td>0.077052</td>\n",
       "      <td>0.062755</td>\n",
       "      <td>0.098432</td>\n",
       "      <td>-0.056063</td>\n",
       "      <td>0.041399</td>\n",
       "      <td>0.041399</td>\n",
       "      <td>...</td>\n",
       "      <td>0.038222</td>\n",
       "      <td>0.052754</td>\n",
       "      <td>0.057730</td>\n",
       "      <td>0.069298</td>\n",
       "      <td>0.224638</td>\n",
       "      <td>1.000000</td>\n",
       "      <td>0.072619</td>\n",
       "      <td>0.024146</td>\n",
       "      <td>0.093098</td>\n",
       "      <td>0.079931</td>\n",
       "    </tr>\n",
       "    <tr>\n",
       "      <th>GRIN2A</th>\n",
       "      <td>0.123329</td>\n",
       "      <td>-0.006726</td>\n",
       "      <td>0.024922</td>\n",
       "      <td>-0.023782</td>\n",
       "      <td>-0.119102</td>\n",
       "      <td>-0.003000</td>\n",
       "      <td>0.004133</td>\n",
       "      <td>0.114052</td>\n",
       "      <td>0.200567</td>\n",
       "      <td>0.036763</td>\n",
       "      <td>...</td>\n",
       "      <td>0.035022</td>\n",
       "      <td>0.228574</td>\n",
       "      <td>0.007935</td>\n",
       "      <td>0.065842</td>\n",
       "      <td>0.116354</td>\n",
       "      <td>0.072619</td>\n",
       "      <td>1.000000</td>\n",
       "      <td>0.076350</td>\n",
       "      <td>0.148801</td>\n",
       "      <td>0.130769</td>\n",
       "    </tr>\n",
       "    <tr>\n",
       "      <th>IDH2</th>\n",
       "      <td>-0.110172</td>\n",
       "      <td>0.029195</td>\n",
       "      <td>-0.111380</td>\n",
       "      <td>0.016351</td>\n",
       "      <td>-0.165509</td>\n",
       "      <td>-0.066294</td>\n",
       "      <td>-0.007487</td>\n",
       "      <td>-0.053153</td>\n",
       "      <td>-0.039876</td>\n",
       "      <td>0.132492</td>\n",
       "      <td>...</td>\n",
       "      <td>0.041618</td>\n",
       "      <td>0.009143</td>\n",
       "      <td>0.012403</td>\n",
       "      <td>0.072987</td>\n",
       "      <td>0.019833</td>\n",
       "      <td>0.024146</td>\n",
       "      <td>0.076350</td>\n",
       "      <td>1.000000</td>\n",
       "      <td>0.097124</td>\n",
       "      <td>0.026496</td>\n",
       "    </tr>\n",
       "    <tr>\n",
       "      <th>FAT4</th>\n",
       "      <td>0.014699</td>\n",
       "      <td>0.123733</td>\n",
       "      <td>0.018249</td>\n",
       "      <td>-0.010854</td>\n",
       "      <td>-0.022712</td>\n",
       "      <td>0.040745</td>\n",
       "      <td>0.034708</td>\n",
       "      <td>-0.015261</td>\n",
       "      <td>0.031702</td>\n",
       "      <td>0.063092</td>\n",
       "      <td>...</td>\n",
       "      <td>0.145606</td>\n",
       "      <td>0.119878</td>\n",
       "      <td>0.020196</td>\n",
       "      <td>0.085817</td>\n",
       "      <td>0.201973</td>\n",
       "      <td>0.093098</td>\n",
       "      <td>0.148801</td>\n",
       "      <td>0.097124</td>\n",
       "      <td>1.000000</td>\n",
       "      <td>0.159695</td>\n",
       "    </tr>\n",
       "    <tr>\n",
       "      <th>PDGFRA</th>\n",
       "      <td>0.126668</td>\n",
       "      <td>0.048953</td>\n",
       "      <td>0.115461</td>\n",
       "      <td>-0.018989</td>\n",
       "      <td>-0.145986</td>\n",
       "      <td>-0.026636</td>\n",
       "      <td>-0.007487</td>\n",
       "      <td>-0.001164</td>\n",
       "      <td>0.075036</td>\n",
       "      <td>0.017580</td>\n",
       "      <td>...</td>\n",
       "      <td>0.041618</td>\n",
       "      <td>0.103384</td>\n",
       "      <td>0.012403</td>\n",
       "      <td>0.179294</td>\n",
       "      <td>0.126140</td>\n",
       "      <td>0.079931</td>\n",
       "      <td>0.130769</td>\n",
       "      <td>0.026496</td>\n",
       "      <td>0.159695</td>\n",
       "      <td>1.000000</td>\n",
       "    </tr>\n",
       "  </tbody>\n",
       "</table>\n",
       "<p>24 rows × 24 columns</p>\n",
       "</div>"
      ],
      "text/plain": [
       "                     Grade    Gender  Age_at_diagnosis      Race      IDH1  \\\n",
       "Grade             1.000000 -0.075924          0.522957  0.113358 -0.717475   \n",
       "Gender           -0.075924  1.000000         -0.002343 -0.018563  0.062736   \n",
       "Age_at_diagnosis  0.522957 -0.002343          1.000000  0.028455 -0.555532   \n",
       "Race              0.113358 -0.018563          0.028455  1.000000 -0.099464   \n",
       "IDH1             -0.717475  0.062736         -0.555532 -0.099464  1.000000   \n",
       "TP53             -0.147768  0.015011         -0.288076 -0.067426  0.325433   \n",
       "ATRX             -0.338552  0.058244         -0.413830 -0.012439  0.448625   \n",
       "PTEN              0.385557 -0.023560          0.266352  0.036713 -0.408016   \n",
       "EGFR              0.230718  0.005622          0.219903  0.038428 -0.359233   \n",
       "CIC              -0.303952  0.055183         -0.124835 -0.032489  0.316564   \n",
       "MUC16             0.146637  0.027068          0.080717  0.038170 -0.124064   \n",
       "PIK3CA           -0.001954  0.011853          0.013730  0.037655 -0.021969   \n",
       "NF1               0.084143 -0.000742          0.099978 -0.024429 -0.228387   \n",
       "PIK3R1            0.075778 -0.034504          0.073539  0.083698 -0.047431   \n",
       "FUBP1            -0.193978  0.011531         -0.063734 -0.023565  0.215861   \n",
       "RB1               0.221305  0.011648          0.093318 -0.037977 -0.204284   \n",
       "NOTCH1           -0.177423  0.009314         -0.082344 -0.049330  0.153752   \n",
       "BCOR              0.002825  0.114144          0.032273 -0.026030 -0.016138   \n",
       "CSMD3             0.057784  0.040785          0.032858 -0.058833 -0.052381   \n",
       "SMARCA4          -0.096197 -0.018099         -0.085148 -0.055865  0.077052   \n",
       "GRIN2A            0.123329 -0.006726          0.024922 -0.023782 -0.119102   \n",
       "IDH2             -0.110172  0.029195         -0.111380  0.016351 -0.165509   \n",
       "FAT4              0.014699  0.123733          0.018249 -0.010854 -0.022712   \n",
       "PDGFRA            0.126668  0.048953          0.115461 -0.018989 -0.145986   \n",
       "\n",
       "                      TP53      ATRX      PTEN      EGFR       CIC  ...  \\\n",
       "Grade            -0.147768 -0.338552  0.385557  0.230718 -0.303952  ...   \n",
       "Gender            0.015011  0.058244 -0.023560  0.005622  0.055183  ...   \n",
       "Age_at_diagnosis -0.288076 -0.413830  0.266352  0.219903 -0.124835  ...   \n",
       "Race             -0.067426 -0.012439  0.036713  0.038428 -0.032489  ...   \n",
       "IDH1              0.325433  0.448625 -0.408016 -0.359233  0.316564  ...   \n",
       "TP53              1.000000  0.543596 -0.050514 -0.165497 -0.274921  ...   \n",
       "ATRX              0.543596  1.000000 -0.181425 -0.151426 -0.174304  ...   \n",
       "PTEN             -0.050514 -0.181425  1.000000  0.188669 -0.137350  ...   \n",
       "EGFR             -0.165497 -0.151426  0.188669  1.000000 -0.109728  ...   \n",
       "CIC              -0.274921 -0.174304 -0.137350 -0.109728  1.000000  ...   \n",
       "MUC16            -0.006105 -0.000410  0.057819  0.119249 -0.028891  ...   \n",
       "PIK3CA           -0.063734 -0.097387 -0.081487  0.062881  0.096842  ...   \n",
       "NF1              -0.069590 -0.079455  0.161478  0.011412 -0.006650  ...   \n",
       "PIK3R1           -0.057572 -0.046845  0.032097  0.001858  0.042600  ...   \n",
       "FUBP1            -0.129770 -0.103896 -0.091119 -0.053215  0.476651  ...   \n",
       "RB1               0.130287 -0.046768  0.116207  0.080796 -0.013760  ...   \n",
       "NOTCH1           -0.037223 -0.019692 -0.071649 -0.056815  0.163899  ...   \n",
       "BCOR              0.081588  0.020113  0.059060 -0.020961  0.112367  ...   \n",
       "CSMD3             0.063183  0.020113  0.059060  0.192363  0.005705  ...   \n",
       "SMARCA4           0.062755  0.098432 -0.056063  0.041399  0.041399  ...   \n",
       "GRIN2A           -0.003000  0.004133  0.114052  0.200567  0.036763  ...   \n",
       "IDH2             -0.066294 -0.007487 -0.053153 -0.039876  0.132492  ...   \n",
       "FAT4              0.040745  0.034708 -0.015261  0.031702  0.063092  ...   \n",
       "PDGFRA           -0.026636 -0.007487 -0.001164  0.075036  0.017580  ...   \n",
       "\n",
       "                     FUBP1       RB1    NOTCH1      BCOR     CSMD3   SMARCA4  \\\n",
       "Grade            -0.193978  0.221305 -0.177423  0.002825  0.057784 -0.096197   \n",
       "Gender            0.011531  0.011648  0.009314  0.114144  0.040785 -0.018099   \n",
       "Age_at_diagnosis -0.063734  0.093318 -0.082344  0.032273  0.032858 -0.085148   \n",
       "Race             -0.023565 -0.037977 -0.049330 -0.026030 -0.058833 -0.055865   \n",
       "IDH1              0.215861 -0.204284  0.153752 -0.016138 -0.052381  0.077052   \n",
       "TP53             -0.129770  0.130287 -0.037223  0.081588  0.063183  0.062755   \n",
       "ATRX             -0.103896 -0.046768 -0.019692  0.020113  0.020113  0.098432   \n",
       "PTEN             -0.091119  0.116207 -0.071649  0.059060  0.059060 -0.056063   \n",
       "EGFR             -0.053215  0.080796 -0.056815 -0.020961  0.192363  0.041399   \n",
       "CIC               0.476651 -0.013760  0.163899  0.112367  0.005705  0.041399   \n",
       "MUC16            -0.048557  0.064191 -0.027967  0.010636  0.120274  0.075852   \n",
       "PIK3CA            0.122333  0.042817  0.020796  0.034075  0.065493  0.008804   \n",
       "NF1               0.060920  0.114078  0.061773  0.044391  0.044391  0.017100   \n",
       "PIK3R1            0.087291  0.044883  0.016153  0.026815  0.064506 -0.006560   \n",
       "FUBP1             1.000000  0.016604  0.201618  0.071211  0.031996  0.038222   \n",
       "RB1               0.016604  1.000000 -0.004803  0.133823  0.090086  0.052754   \n",
       "NOTCH1            0.201618 -0.004803  1.000000  0.051244  0.005869  0.057730   \n",
       "BCOR              0.071211  0.133823  0.051244  1.000000  0.062592  0.069298   \n",
       "CSMD3             0.031996  0.090086  0.005869  0.062592  1.000000  0.224638   \n",
       "SMARCA4           0.038222  0.052754  0.057730  0.069298  0.224638  1.000000   \n",
       "GRIN2A            0.035022  0.228574  0.007935  0.065842  0.116354  0.072619   \n",
       "IDH2              0.041618  0.009143  0.012403  0.072987  0.019833  0.024146   \n",
       "FAT4              0.145606  0.119878  0.020196  0.085817  0.201973  0.093098   \n",
       "PDGFRA            0.041618  0.103384  0.012403  0.179294  0.126140  0.079931   \n",
       "\n",
       "                    GRIN2A      IDH2      FAT4    PDGFRA  \n",
       "Grade             0.123329 -0.110172  0.014699  0.126668  \n",
       "Gender           -0.006726  0.029195  0.123733  0.048953  \n",
       "Age_at_diagnosis  0.024922 -0.111380  0.018249  0.115461  \n",
       "Race             -0.023782  0.016351 -0.010854 -0.018989  \n",
       "IDH1             -0.119102 -0.165509 -0.022712 -0.145986  \n",
       "TP53             -0.003000 -0.066294  0.040745 -0.026636  \n",
       "ATRX              0.004133 -0.007487  0.034708 -0.007487  \n",
       "PTEN              0.114052 -0.053153 -0.015261 -0.001164  \n",
       "EGFR              0.200567 -0.039876  0.031702  0.075036  \n",
       "CIC               0.036763  0.132492  0.063092  0.017580  \n",
       "MUC16             0.126629 -0.007052  0.133395  0.170125  \n",
       "PIK3CA            0.069986  0.012125  0.023368  0.012125  \n",
       "NF1               0.185027  0.020419  0.071044  0.092425  \n",
       "PIK3R1            0.029821 -0.004242  0.181005  0.076970  \n",
       "FUBP1             0.035022  0.041618  0.145606  0.041618  \n",
       "RB1               0.228574  0.009143  0.119878  0.103384  \n",
       "NOTCH1            0.007935  0.012403  0.020196  0.012403  \n",
       "BCOR              0.065842  0.072987  0.085817  0.179294  \n",
       "CSMD3             0.116354  0.019833  0.201973  0.126140  \n",
       "SMARCA4           0.072619  0.024146  0.093098  0.079931  \n",
       "GRIN2A            1.000000  0.076350  0.148801  0.130769  \n",
       "IDH2              0.076350  1.000000  0.097124  0.026496  \n",
       "FAT4              0.148801  0.097124  1.000000  0.159695  \n",
       "PDGFRA            0.130769  0.026496  0.159695  1.000000  \n",
       "\n",
       "[24 rows x 24 columns]"
      ]
     },
     "execution_count": 12,
     "metadata": {},
     "output_type": "execute_result"
    }
   ],
   "source": [
    "corrs = data_train.corr(numeric_only=False) # считаем корреляцию\n",
    "corrs"
   ]
  },
  {
   "cell_type": "code",
   "execution_count": 13,
   "metadata": {
    "datalore": {
     "hide_input_from_viewers": true,
     "hide_output_from_viewers": true,
     "node_id": "hAQ7Re5H9311vhmsVIxUYJ",
     "type": "CODE"
    }
   },
   "outputs": [
    {
     "data": {
      "image/png": "[encoded data removed]",
      "text/plain": [
       "<Figure size 936x792 with 2 Axes>"
      ]
     },
     "metadata": {
      "needs_background": "light"
     },
     "output_type": "display_data"
    }
   ],
   "source": [
    "plt.figure(figsize=(13,11)) # задание размера выводимой фигуры\n",
    "sns.heatmap(corrs, vmin=-1, vmax=1) # создание heatmap\n",
    "plt.show() # вывод графика"
   ]
  },
  {
   "cell_type": "code",
   "execution_count": 14,
   "metadata": {
    "datalore": {
     "hide_input_from_viewers": true,
     "hide_output_from_viewers": true,
     "node_id": "KHMtg20JVpXUi8sMUKe9gG",
     "type": "CODE"
    }
   },
   "outputs": [
    {
     "name": "stdout",
     "output_type": "stream",
     "text": [
      "[-0.7174747581507976, 'Grade', 'IDH1']\n",
      "[-0.5555315630523665, 'Age_at_diagnosis', 'IDH1']\n",
      "[0.5435959085059712, 'TP53', 'ATRX']\n",
      "[0.5229569420764796, 'Grade', 'Age_at_diagnosis']\n",
      "[0.47665075615332053, 'CIC', 'FUBP1']\n",
      "[0.44862454627015647, 'IDH1', 'ATRX']\n",
      "[-0.4138295400474748, 'Age_at_diagnosis', 'ATRX']\n",
      "[-0.4080160898198677, 'IDH1', 'PTEN']\n",
      "[0.38555722122717967, 'Grade', 'PTEN']\n",
      "[-0.35923270495350856, 'IDH1', 'EGFR']\n",
      "[-0.338552452111398, 'Grade', 'ATRX']\n",
      "[0.3254325140519197, 'IDH1', 'TP53']\n",
      "[0.31656397429777366, 'IDH1', 'CIC']\n",
      "[-0.3039516260660918, 'Grade', 'CIC']\n",
      "[-0.2880757859788816, 'Age_at_diagnosis', 'TP53']\n",
      "[-0.2749209389208053, 'TP53', 'CIC']\n",
      "[0.2663517446791989, 'Age_at_diagnosis', 'PTEN']\n",
      "[0.23071818366672, 'Grade', 'EGFR']\n",
      "[0.22857367793245106, 'RB1', 'GRIN2A']\n",
      "[-0.2283869238980205, 'IDH1', 'NF1']\n"
     ]
    }
   ],
   "source": [
    "# найдём максимальные корреляции (и обратные)\n",
    "corrs_ = [] \n",
    "for i in range(data_train.shape[1]):\n",
    "    for j in range(i+1, data_train.shape[1]): # идём по верхнетреугольной матрице\n",
    "        corrs_.append([corrs[data_train.columns[i]][data_train.columns[j]], data_train.columns[i], data_train.columns[j]]) # заполняем таблицу корреляций подмассивами вида [значение, признак 1, признак 2]\n",
    "corrs_ = sorted(corrs_) # сортируем по повышению значения\n",
    "\n",
    "# выводим топ-20 коорелированных параметров\n",
    "i_up = 0 # для динамической индексации с обоих концов массива\n",
    "i_bottom = len(corrs_)-1\n",
    "for i in range(20):\n",
    "    if abs(corrs_[i_up][0]) > abs(corrs_[i_bottom][0]): # сравниваем корреляцию по модулю\n",
    "        print(corrs_[i_up])\n",
    "        i_up += 1\n",
    "    else:\n",
    "        print(corrs_[i_bottom])\n",
    "        i_bottom -= 1"
   ]
  },
  {
   "cell_type": "markdown",
   "metadata": {
    "datalore": {
     "hide_input_from_viewers": true,
     "hide_output_from_viewers": true,
     "node_id": "P4LbHZGtuGe33xDx7YFZoV",
     "type": "MD"
    }
   },
   "source": [
    "#### * Реально значащая корреляция (хоть и обратная) наблюдается только у гена \"IDH1\" и болезни (Grade).\n",
    "\n",
    "#### * Корреляция Пирсона ниже 0.5 (по модулю) считается средней и, в данном случае, рассматривается как \"незначительная\" или не оказывающая большого влияния.\n",
    "\n",
    "Кроме того, можно заметить, что болезнь ещё средне зависима от возраста. Поэтому предполагается, что весовые коэффициенты у указанных признаков (возраст и \"IDH1\") будут самым значительными.\n",
    "\n",
    "Среди же самих рассматриваемых признаков максимальная корреляция не превысила 0.6 (по модулю), поэтому никакие признаки отброшены не будут."
   ]
  },
  {
   "cell_type": "markdown",
   "metadata": {
    "datalore": {
     "hide_input_from_viewers": true,
     "hide_output_from_viewers": true,
     "node_id": "rSBxRSxV8lYUaAq89FCa4q",
     "type": "MD"
    }
   },
   "source": [
    "        Значения признаков:\n",
    "* Gender — пол, может принимать значение 0 и 1, если пациент — мужчина или женщина, соответственно.\n",
    "* Age_at_diagnosis — возрастр пациента, непрерывная величина, из-за сильного различия в области значений параметров была промасштабирована в область от 0 до 1. \n",
    "* Race - раса пациента, принимает значение от 0 до 3 в зависимости, собственно, от расы.\n",
    "* 20 генов принимают значение 0, если они не мутировали, и 1 — если иначе."
   ]
  },
  {
   "cell_type": "markdown",
   "metadata": {
    "datalore": {
     "hide_input_from_viewers": true,
     "hide_output_from_viewers": true,
     "node_id": "oGp6uAjBSpm519JlRqRuu6",
     "type": "MD"
    }
   },
   "source": [
    "### Разбиение датасета на выборку и таргет"
   ]
  },
  {
   "cell_type": "code",
   "execution_count": 15,
   "metadata": {
    "datalore": {
     "hide_input_from_viewers": true,
     "hide_output_from_viewers": true,
     "node_id": "2SV7Eg9SrXlFDpUrmi2dJp",
     "type": "CODE"
    }
   },
   "outputs": [],
   "source": [
    "features, targets = torch.tensor(data_train.iloc[:,1:].values), torch.tensor(data_train.iloc[:,:1].values).to(torch.float64) # приводим данные к тензорному виду\n",
    "X_validation = torch.tensor(data_validation.values)"
   ]
  },
  {
   "cell_type": "code",
   "execution_count": 16,
   "metadata": {
    "datalore": {
     "hide_input_from_viewers": true,
     "hide_output_from_viewers": true,
     "node_id": "Qu5Vz1gadY9NyHXU9pbXPp",
     "type": "CODE"
    }
   },
   "outputs": [],
   "source": [
    "X_train, X_test, Y_train, Y_test = train_test_split(features, targets, test_size=test_size, random_state=random_state) # делаем train/test split"
   ]
  },
  {
   "cell_type": "code",
   "execution_count": 17,
   "metadata": {
    "datalore": {
     "hide_input_from_viewers": true,
     "hide_output_from_viewers": true,
     "node_id": "wKBDN5XtVpn7Z4330ynrZ9",
     "type": "CODE"
    }
   },
   "outputs": [
    {
     "data": {
      "text/plain": [
       "tensor([[0.0000, 0.9202, 0.0000,  ..., 0.0000, 0.0000, 0.0000],\n",
       "        [0.0000, 0.6466, 0.0000,  ..., 0.0000, 0.0000, 0.0000],\n",
       "        [0.0000, 0.2943, 0.0000,  ..., 0.0000, 0.0000, 0.0000],\n",
       "        ...,\n",
       "        [1.0000, 0.8424, 0.0000,  ..., 0.0000, 0.0000, 0.0000],\n",
       "        [0.0000, 0.5367, 0.0000,  ..., 0.0000, 0.0000, 0.0000],\n",
       "        [0.0000, 0.5351, 2.0000,  ..., 0.0000, 0.0000, 0.0000]],\n",
       "       dtype=torch.float64)"
      ]
     },
     "execution_count": 17,
     "metadata": {},
     "output_type": "execute_result"
    }
   ],
   "source": [
    "X_train"
   ]
  },
  {
   "cell_type": "code",
   "execution_count": 18,
   "metadata": {
    "datalore": {
     "hide_input_from_viewers": true,
     "hide_output_from_viewers": true,
     "node_id": "EIsRPE2A2SIa5kjFFWrhAE",
     "type": "CODE"
    }
   },
   "outputs": [
    {
     "data": {
      "text/plain": [
       "tensor([[1.],\n",
       "        [1.],\n",
       "        [0.],\n",
       "        [1.],\n",
       "        [0.],\n",
       "        [0.],\n",
       "        [1.],\n",
       "        [0.],\n",
       "        [0.],\n",
       "        [1.],\n",
       "        [1.],\n",
       "        [0.],\n",
       "        [1.],\n",
       "        [0.],\n",
       "        [1.],\n",
       "        [1.],\n",
       "        [1.],\n",
       "        [1.],\n",
       "        [1.],\n",
       "        [0.],\n",
       "        [0.],\n",
       "        [1.],\n",
       "        [0.],\n",
       "        [0.],\n",
       "        [1.],\n",
       "        [0.],\n",
       "        [1.],\n",
       "        [0.],\n",
       "        [1.],\n",
       "        [1.],\n",
       "        [0.],\n",
       "        [0.],\n",
       "        [1.],\n",
       "        [0.],\n",
       "        [0.],\n",
       "        [0.],\n",
       "        [1.],\n",
       "        [0.],\n",
       "        [0.],\n",
       "        [0.],\n",
       "        [0.],\n",
       "        [1.],\n",
       "        [0.],\n",
       "        [0.],\n",
       "        [0.],\n",
       "        [1.],\n",
       "        [1.],\n",
       "        [1.],\n",
       "        [0.],\n",
       "        [0.],\n",
       "        [1.],\n",
       "        [1.],\n",
       "        [0.],\n",
       "        [1.],\n",
       "        [0.],\n",
       "        [0.],\n",
       "        [0.],\n",
       "        [1.],\n",
       "        [0.],\n",
       "        [0.],\n",
       "        [0.],\n",
       "        [0.],\n",
       "        [0.],\n",
       "        [1.],\n",
       "        [1.],\n",
       "        [0.],\n",
       "        [1.],\n",
       "        [1.],\n",
       "        [1.],\n",
       "        [0.],\n",
       "        [1.],\n",
       "        [0.],\n",
       "        [1.],\n",
       "        [0.],\n",
       "        [1.],\n",
       "        [0.],\n",
       "        [0.],\n",
       "        [0.],\n",
       "        [0.],\n",
       "        [0.],\n",
       "        [0.],\n",
       "        [1.],\n",
       "        [1.],\n",
       "        [1.],\n",
       "        [0.],\n",
       "        [1.],\n",
       "        [0.],\n",
       "        [1.],\n",
       "        [0.],\n",
       "        [1.],\n",
       "        [1.],\n",
       "        [0.],\n",
       "        [1.],\n",
       "        [1.],\n",
       "        [0.],\n",
       "        [0.],\n",
       "        [0.],\n",
       "        [0.],\n",
       "        [0.],\n",
       "        [0.],\n",
       "        [1.],\n",
       "        [1.],\n",
       "        [0.],\n",
       "        [1.],\n",
       "        [0.],\n",
       "        [0.],\n",
       "        [1.],\n",
       "        [1.],\n",
       "        [1.],\n",
       "        [1.],\n",
       "        [0.],\n",
       "        [1.],\n",
       "        [1.],\n",
       "        [0.],\n",
       "        [1.],\n",
       "        [1.],\n",
       "        [0.],\n",
       "        [0.],\n",
       "        [1.],\n",
       "        [0.],\n",
       "        [0.],\n",
       "        [0.],\n",
       "        [1.],\n",
       "        [1.],\n",
       "        [0.],\n",
       "        [0.],\n",
       "        [0.],\n",
       "        [1.],\n",
       "        [0.],\n",
       "        [0.],\n",
       "        [1.],\n",
       "        [0.],\n",
       "        [0.],\n",
       "        [1.],\n",
       "        [0.],\n",
       "        [1.],\n",
       "        [1.],\n",
       "        [1.],\n",
       "        [1.],\n",
       "        [0.],\n",
       "        [0.],\n",
       "        [0.],\n",
       "        [0.],\n",
       "        [1.],\n",
       "        [1.],\n",
       "        [0.],\n",
       "        [0.],\n",
       "        [1.],\n",
       "        [1.],\n",
       "        [0.],\n",
       "        [0.],\n",
       "        [0.],\n",
       "        [1.],\n",
       "        [0.],\n",
       "        [1.],\n",
       "        [1.],\n",
       "        [0.],\n",
       "        [0.],\n",
       "        [1.],\n",
       "        [0.],\n",
       "        [0.],\n",
       "        [1.],\n",
       "        [0.],\n",
       "        [0.],\n",
       "        [1.],\n",
       "        [0.],\n",
       "        [0.],\n",
       "        [0.],\n",
       "        [0.],\n",
       "        [0.],\n",
       "        [0.],\n",
       "        [0.],\n",
       "        [1.],\n",
       "        [0.],\n",
       "        [1.],\n",
       "        [0.],\n",
       "        [1.],\n",
       "        [0.],\n",
       "        [1.],\n",
       "        [0.],\n",
       "        [1.],\n",
       "        [0.],\n",
       "        [0.],\n",
       "        [0.],\n",
       "        [0.],\n",
       "        [1.],\n",
       "        [1.],\n",
       "        [0.],\n",
       "        [1.],\n",
       "        [1.],\n",
       "        [0.],\n",
       "        [0.],\n",
       "        [0.],\n",
       "        [1.],\n",
       "        [1.],\n",
       "        [1.],\n",
       "        [0.],\n",
       "        [1.],\n",
       "        [0.],\n",
       "        [0.],\n",
       "        [0.],\n",
       "        [1.],\n",
       "        [1.],\n",
       "        [1.],\n",
       "        [0.],\n",
       "        [1.],\n",
       "        [0.],\n",
       "        [0.],\n",
       "        [1.],\n",
       "        [1.],\n",
       "        [0.],\n",
       "        [0.],\n",
       "        [0.],\n",
       "        [1.],\n",
       "        [0.],\n",
       "        [0.],\n",
       "        [0.],\n",
       "        [0.],\n",
       "        [1.],\n",
       "        [1.],\n",
       "        [1.],\n",
       "        [0.],\n",
       "        [1.],\n",
       "        [0.],\n",
       "        [1.],\n",
       "        [0.],\n",
       "        [0.],\n",
       "        [0.],\n",
       "        [0.],\n",
       "        [1.],\n",
       "        [0.],\n",
       "        [1.],\n",
       "        [0.],\n",
       "        [1.],\n",
       "        [0.],\n",
       "        [1.],\n",
       "        [0.],\n",
       "        [1.],\n",
       "        [1.],\n",
       "        [0.],\n",
       "        [0.],\n",
       "        [1.],\n",
       "        [0.],\n",
       "        [1.],\n",
       "        [1.],\n",
       "        [0.],\n",
       "        [0.],\n",
       "        [1.],\n",
       "        [0.],\n",
       "        [0.],\n",
       "        [0.],\n",
       "        [0.],\n",
       "        [0.],\n",
       "        [1.],\n",
       "        [1.],\n",
       "        [0.],\n",
       "        [1.],\n",
       "        [0.],\n",
       "        [1.],\n",
       "        [1.],\n",
       "        [0.],\n",
       "        [1.],\n",
       "        [1.],\n",
       "        [0.],\n",
       "        [1.],\n",
       "        [0.],\n",
       "        [0.],\n",
       "        [1.],\n",
       "        [1.],\n",
       "        [1.],\n",
       "        [1.],\n",
       "        [1.],\n",
       "        [0.],\n",
       "        [0.],\n",
       "        [1.],\n",
       "        [0.],\n",
       "        [1.],\n",
       "        [0.],\n",
       "        [0.],\n",
       "        [0.],\n",
       "        [1.],\n",
       "        [0.],\n",
       "        [1.],\n",
       "        [1.],\n",
       "        [1.],\n",
       "        [1.],\n",
       "        [1.],\n",
       "        [1.],\n",
       "        [0.],\n",
       "        [0.],\n",
       "        [0.],\n",
       "        [0.],\n",
       "        [0.],\n",
       "        [0.],\n",
       "        [0.],\n",
       "        [0.],\n",
       "        [0.],\n",
       "        [0.],\n",
       "        [0.],\n",
       "        [1.],\n",
       "        [0.],\n",
       "        [0.],\n",
       "        [1.],\n",
       "        [1.],\n",
       "        [0.],\n",
       "        [1.],\n",
       "        [1.],\n",
       "        [0.],\n",
       "        [0.],\n",
       "        [1.],\n",
       "        [0.],\n",
       "        [1.],\n",
       "        [1.],\n",
       "        [0.],\n",
       "        [0.],\n",
       "        [0.],\n",
       "        [1.],\n",
       "        [0.],\n",
       "        [0.],\n",
       "        [0.],\n",
       "        [1.],\n",
       "        [0.],\n",
       "        [1.],\n",
       "        [0.],\n",
       "        [0.],\n",
       "        [0.],\n",
       "        [1.],\n",
       "        [0.],\n",
       "        [1.],\n",
       "        [0.],\n",
       "        [0.],\n",
       "        [0.],\n",
       "        [0.],\n",
       "        [0.],\n",
       "        [1.],\n",
       "        [1.],\n",
       "        [0.],\n",
       "        [0.],\n",
       "        [0.],\n",
       "        [1.],\n",
       "        [1.],\n",
       "        [0.],\n",
       "        [0.],\n",
       "        [1.],\n",
       "        [0.],\n",
       "        [0.],\n",
       "        [1.],\n",
       "        [0.],\n",
       "        [0.],\n",
       "        [0.],\n",
       "        [1.],\n",
       "        [1.],\n",
       "        [1.],\n",
       "        [1.],\n",
       "        [0.],\n",
       "        [1.],\n",
       "        [0.],\n",
       "        [1.],\n",
       "        [1.],\n",
       "        [1.],\n",
       "        [0.],\n",
       "        [0.],\n",
       "        [0.],\n",
       "        [0.],\n",
       "        [1.],\n",
       "        [0.],\n",
       "        [0.],\n",
       "        [1.],\n",
       "        [0.],\n",
       "        [1.],\n",
       "        [0.],\n",
       "        [0.],\n",
       "        [0.],\n",
       "        [0.],\n",
       "        [1.],\n",
       "        [0.],\n",
       "        [0.],\n",
       "        [0.],\n",
       "        [0.],\n",
       "        [0.],\n",
       "        [0.],\n",
       "        [1.],\n",
       "        [1.],\n",
       "        [1.],\n",
       "        [1.],\n",
       "        [1.],\n",
       "        [0.],\n",
       "        [0.],\n",
       "        [1.],\n",
       "        [0.],\n",
       "        [0.],\n",
       "        [1.],\n",
       "        [0.],\n",
       "        [1.],\n",
       "        [0.],\n",
       "        [0.],\n",
       "        [0.],\n",
       "        [0.],\n",
       "        [1.],\n",
       "        [1.],\n",
       "        [0.],\n",
       "        [1.],\n",
       "        [0.],\n",
       "        [1.],\n",
       "        [0.],\n",
       "        [1.],\n",
       "        [0.],\n",
       "        [0.],\n",
       "        [1.],\n",
       "        [0.],\n",
       "        [0.],\n",
       "        [0.],\n",
       "        [1.],\n",
       "        [1.],\n",
       "        [1.],\n",
       "        [1.],\n",
       "        [0.],\n",
       "        [0.],\n",
       "        [1.],\n",
       "        [0.],\n",
       "        [0.],\n",
       "        [1.],\n",
       "        [1.],\n",
       "        [1.],\n",
       "        [0.],\n",
       "        [1.],\n",
       "        [0.],\n",
       "        [1.],\n",
       "        [1.],\n",
       "        [0.],\n",
       "        [0.],\n",
       "        [0.],\n",
       "        [0.],\n",
       "        [1.],\n",
       "        [0.],\n",
       "        [0.],\n",
       "        [1.],\n",
       "        [1.],\n",
       "        [0.],\n",
       "        [0.],\n",
       "        [0.],\n",
       "        [1.],\n",
       "        [1.],\n",
       "        [0.],\n",
       "        [1.],\n",
       "        [1.],\n",
       "        [1.],\n",
       "        [0.],\n",
       "        [0.],\n",
       "        [1.],\n",
       "        [0.],\n",
       "        [1.]], dtype=torch.float64)"
      ]
     },
     "execution_count": 18,
     "metadata": {},
     "output_type": "execute_result"
    }
   ],
   "source": [
    "Y_train"
   ]
  },
  {
   "cell_type": "markdown",
   "metadata": {
    "datalore": {
     "hide_input_from_viewers": true,
     "hide_output_from_viewers": true,
     "node_id": "ebApsXqbnqBHbsRgOmUEik",
     "type": "MD"
    }
   },
   "source": [
    "## 2) Использование моделей"
   ]
  },
  {
   "cell_type": "markdown",
   "metadata": {
    "datalore": {
     "hide_input_from_viewers": true,
     "hide_output_from_viewers": true,
     "node_id": "b10bETOsWSN1XFlSYV36zD",
     "type": "MD"
    }
   },
   "source": [
    "### a) K-Nearest Neighbors (KNN)"
   ]
  },
  {
   "cell_type": "markdown",
   "metadata": {
    "datalore": {
     "hide_input_from_viewers": true,
     "hide_output_from_viewers": true,
     "node_id": "4z3b0PQMWybiEoje8V7es7",
     "type": "MD"
    }
   },
   "source": [
    "        KNN — простейший алгоритм классификации по количеству ближайших соседей."
   ]
  },
  {
   "cell_type": "code",
   "execution_count": 19,
   "metadata": {
    "datalore": {
     "hide_input_from_viewers": true,
     "hide_output_from_viewers": true,
     "node_id": "ElHB459KhBIMWbQ2e5gfYu",
     "type": "CODE"
    }
   },
   "outputs": [],
   "source": [
    "# параметры для KNN\n",
    "KNN_PARAMS = {'n_neighbors': list(range(2,20)), # число соседей\n",
    "              'weights': ['uniform', 'distance']} # функция подсчёта веса (для близости между соседями)"
   ]
  },
  {
   "cell_type": "code",
   "execution_count": 20,
   "metadata": {
    "datalore": {
     "hide_input_from_viewers": true,
     "hide_output_from_viewers": true,
     "node_id": "2Ifo6gMput9cnrGlyL3fYS",
     "type": "CODE"
    }
   },
   "outputs": [],
   "source": [
    "model_knn_gs = GridSearchCV(KNeighborsClassifier(), KNN_PARAMS, cv=3) # обучаем модель с поиском наилучшей комбинации параметров\n",
    "model_knn_gs.fit(X_train, Y_train.ravel()) # ravel преобразует эту форму массива в (n, ) (т.е. засунет всё в одномерный массив)\n",
    "preds_knn = model_knn_gs.best_estimator_.predict(X_test) # делаем предсказание"
   ]
  },
  {
   "cell_type": "markdown",
   "metadata": {
    "datalore": {
     "hide_input_from_viewers": true,
     "hide_output_from_viewers": true,
     "node_id": "uR30TvW64ihUFlI1N04uRL",
     "type": "MD"
    }
   },
   "source": [
    "        Проверяем работу модели (KNN), используя F1 score."
   ]
  },
  {
   "cell_type": "code",
   "execution_count": 21,
   "metadata": {
    "datalore": {
     "hide_input_from_viewers": true,
     "hide_output_from_viewers": true,
     "node_id": "azqlZPbrmyEOLiUoO6vjdd",
     "type": "CODE"
    }
   },
   "outputs": [
    {
     "data": {
      "text/plain": [
       "0.806451612903226"
      ]
     },
     "execution_count": 21,
     "metadata": {},
     "output_type": "execute_result"
    }
   ],
   "source": [
    "f1_score(Y_test, preds_knn) # считаем f1 score"
   ]
  },
  {
   "cell_type": "code",
   "execution_count": 22,
   "metadata": {
    "datalore": {
     "hide_input_from_viewers": true,
     "hide_output_from_viewers": true,
     "node_id": "8xwNU2baFRKUBGr0oHSKpc",
     "type": "CODE"
    }
   },
   "outputs": [
    {
     "data": {
      "image/png": "[encoded data removed]",
      "text/plain": [
       "<Figure size 432x288 with 2 Axes>"
      ]
     },
     "metadata": {
      "needs_background": "light"
     },
     "output_type": "display_data"
    }
   ],
   "source": [
    "# вывод Confusion Matrix, отражающей качество предсказаний\n",
    "ConfusionMatrixDisplay(confusion_matrix = confusion_matrix(Y_test, preds_knn), display_labels = [\"LGG\", \"GBM\"]).plot()\n",
    "plt.grid(False) # убирание сетки\n",
    "plt.show() # вывод графика"
   ]
  },
  {
   "cell_type": "markdown",
   "metadata": {
    "datalore": {
     "hide_input_from_viewers": true,
     "hide_output_from_viewers": true,
     "node_id": "hDjFBE7Vp5HyM05CN95wOS",
     "type": "MD"
    }
   },
   "source": [
    "        KNN модель довольно неплохо справилась с задачей. \n",
    "    - Ошибка при предсказании LGG составила 18 пациентов из 95, что примерно равно 0.189.\n",
    "    - Ошибка для GBM - 6 из 56 пациентов, что ~ 0.107.\n",
    "Таким образом простейшая KNN задала хорошую начальную планку для проверки качества последующих моделей."
   ]
  },
  {
   "cell_type": "markdown",
   "metadata": {
    "datalore": {
     "hide_input_from_viewers": true,
     "hide_output_from_viewers": true,
     "node_id": "KazTM6tai8BLSTaKIcikTe",
     "type": "MD"
    }
   },
   "source": [
    "### b) Логистическая регрессия"
   ]
  },
  {
   "cell_type": "markdown",
   "metadata": {
    "datalore": {
     "hide_input_from_viewers": true,
     "hide_output_from_viewers": true,
     "node_id": "L7taF8ufdC6snwcJjjlKl3",
     "type": "MD"
    }
   },
   "source": [
    "        Логистическая регрессия — хорошо интерпретируемая модель, так как веса в ней напрямую соответствуют признакам и отражают, на сколько изменится результат при изменении значения соответствующего признака. (сигмойда просто переводит получившееся число от перемножения весов на значение признака в область от 0 до 1)."
   ]
  },
  {
   "cell_type": "code",
   "execution_count": 27,
   "metadata": {
    "datalore": {
     "hide_input_from_viewers": true,
     "hide_output_from_viewers": true,
     "node_id": "bltbRkVZQSZ6FVtSZMkgdG",
     "type": "CODE"
    }
   },
   "outputs": [],
   "source": [
    "losses = {\"LogisticRegression\": {\"train\":  [], \"test\": []}, \"EnsembleModel\": {\"train\":  [], \"test\": []}}"
   ]
  },
  {
   "cell_type": "code",
   "execution_count": 28,
   "metadata": {
    "datalore": {
     "hide_input_from_viewers": true,
     "hide_output_from_viewers": true,
     "node_id": "BkocIPeTLoXvbYvgrPsS2Z",
     "type": "CODE"
    }
   },
   "outputs": [],
   "source": [
    "# определение модели\n",
    "class LogisticRegression(nn.Module):\n",
    "    def __init__(self, input_size, output_size): # конструктор модели (input_size - число признаков, output_size - число таргетов для предсказания)\n",
    "        super(LogisticRegression, self).__init__() # инициализация \n",
    "        self.linear = nn.Linear(in_features=input_size, out_features=output_size) # имеет линейный слой\n",
    "        self.sigmoid = nn.Sigmoid() # сигмойда для приведения числа, полученного после линейного слоя в область от 0 до 1 (вероятность)\n",
    "\n",
    "        self.linear.weight.data = torch.zeros((output_size, input_size), dtype=self.linear.weight.dtype) # зануление весов (для чистоты эксперимента)\n",
    "        self.linear.bias.data = torch.zeros(output_size, dtype=self.linear.bias.dtype) # зануление bias (для чистоты эксперимента)\n",
    "\n",
    "    def forward(self, X):\n",
    "        pred = self.linear(X) # применяем линейный слой\n",
    "        pred = self.sigmoid(pred) # вызываем сигмойду\n",
    "        return pred # возвращаем предсказание"
   ]
  },
  {
   "cell_type": "code",
   "execution_count": 29,
   "metadata": {
    "datalore": {
     "hide_input_from_viewers": true,
     "hide_output_from_viewers": true,
     "node_id": "4PKrEGKSl9NQwKVZG45Kje",
     "type": "CODE"
    }
   },
   "outputs": [],
   "source": [
    "criterion = nn.BCELoss() # определяем функцию потерь — бинарную кросс-энтропию (хорошо для задачи бинарной классификации, где таргет может принимать лишь два значения - 0 и 1)\n",
    "# При бинарной классификации каждая предсказанная вероятность сравнивается с фактическим значением класса (0 или 1), \n",
    "# и вычисляется оценка, которая штрафует вероятность на основе расстояния от ожидаемого значения.\n",
    "\n",
    "# BCELoss выше, чем MSEloss примерно раза в 4 (на выбранном датасете), поэтому значение в 0.4 для BCE — это хорошо"
   ]
  },
  {
   "cell_type": "code",
   "execution_count": 30,
   "metadata": {
    "datalore": {
     "hide_input_from_viewers": true,
     "hide_output_from_viewers": true,
     "node_id": "jNjPzSUKyvQlAU6PnmhzSJ",
     "type": "CODE"
    }
   },
   "outputs": [],
   "source": [
    "model_log = LogisticRegression(X_train.shape[1], Y_train.shape[1]).to(torch.float64) # создаём объект модели\n",
    "\n",
    "optimizer_1 = optim.Adam(model_log.parameters(), lr=learning_rate) # определяем оптимайзер — Adam и передаём в него веса модели с lr\n",
    "\n",
    "for epoch in range(num_epochs): # проводим обучение и тестирование num_epochs раз\n",
    "    Y_pred = model_log(X_train) # делаем предсказание\n",
    "    loss = criterion(Y_pred, Y_train) # считаем ошибку по BCE loss\n",
    "\n",
    "    losses[\"LogisticRegression\"][\"train\"].append(loss.data) # запоминаем значение BCEloss\n",
    "\n",
    "    optimizer_1.zero_grad() # обнуляем градиенты во всех обучаемых torch.Tensor (ставит w.grad = 0 в torch.Tensor с requires_grad=True) (вызывается перед loss.backward(), чтобы не аккумулировать градиенты за несколько итераций обучения)\n",
    "    loss.backward() # считаем dloss/dw для каждого веса модели w, у которого requires_grad=True (сохраняется в w.grad следующим образом w.grad += dloss/dw)\n",
    "    optimizer_1.step() # обновляет веса модели (тензоры, у которых стоит флаг requires_grad=True, используя значение из w.grad следующим образом w += -lr * w.grad)\n",
    "\n",
    "    with torch.no_grad(): # запускаем валидацию (каждую эпоху)\n",
    "        Y_pred = model_log(X_test) # вызываем forward с передачей X_test\n",
    "        losses[\"LogisticRegression\"][\"test\"].append(criterion(Y_pred, Y_test).data) # запоминаем значение BCEloss"
   ]
  },
  {
   "cell_type": "code",
   "execution_count": 31,
   "metadata": {
    "datalore": {
     "hide_input_from_viewers": true,
     "hide_output_from_viewers": true,
     "node_id": "MDeMRUJnXvCMMDVL2ozNvO",
     "type": "CODE"
    }
   },
   "outputs": [
    {
     "data": {
      "image/png": "[encoded data removed]",
      "text/plain": [
       "<Figure size 720x576 with 1 Axes>"
      ]
     },
     "metadata": {
      "needs_background": "light"
     },
     "output_type": "display_data"
    }
   ],
   "source": [
    "plt.figure(figsize=(10,8)) # задание размера графика\n",
    "plt.plot(losses[\"LogisticRegression\"][\"train\"], \"b\", label='train') # построение BCE loss на обучении\n",
    "plt.plot(losses[\"LogisticRegression\"][\"test\"], \"r\", label='test') # построение BCE loss на тестировании\n",
    "\n",
    "plt.title('BCE Loss with LogisticRegression') # название графика\n",
    "plt.xlabel('epoch') # подпись по оси x\n",
    "plt.ylabel('loss') # подпись по оси y\n",
    "plt.legend() # вывод названий графиков\n",
    "plt.show() # вывод графика"
   ]
  },
  {
   "cell_type": "markdown",
   "metadata": {
    "datalore": {
     "hide_input_from_viewers": true,
     "hide_output_from_viewers": true,
     "node_id": "Z5x1i727IVd3tlAKe3OK1n",
     "type": "MD"
    }
   },
   "source": [
    "        Проверяем работу модели (логистической регрессии), используя F1 score."
   ]
  },
  {
   "cell_type": "code",
   "execution_count": 32,
   "metadata": {
    "datalore": {
     "hide_input_from_viewers": true,
     "hide_output_from_viewers": true,
     "node_id": "wZV1qD0BbC51DP1Qol9BC9",
     "type": "CODE"
    }
   },
   "outputs": [
    {
     "data": {
      "text/plain": [
       "0.8166666666666667"
      ]
     },
     "execution_count": 32,
     "metadata": {},
     "output_type": "execute_result"
    }
   ],
   "source": [
    "preds_log = model_log(X_test).detach() # делаем предсказание\n",
    "preds_log = (preds_log>0.5).float() # конвертируем верояности в классы (типа float)\n",
    "f1_score(Y_test, preds_log) # считаем f1 score"
   ]
  },
  {
   "cell_type": "code",
   "execution_count": 33,
   "metadata": {
    "datalore": {
     "hide_input_from_viewers": true,
     "hide_output_from_viewers": true,
     "node_id": "ddrqoQkulWxAbLObIeFeyl",
     "type": "CODE"
    }
   },
   "outputs": [
    {
     "data": {
      "image/png": "[encoded data removed]",
      "text/plain": [
       "<Figure size 432x288 with 2 Axes>"
      ]
     },
     "metadata": {
      "needs_background": "light"
     },
     "output_type": "display_data"
    }
   ],
   "source": [
    "# вывод Confusion Matrix, отражающей качество предсказаний\n",
    "ConfusionMatrixDisplay(confusion_matrix = confusion_matrix(Y_test, preds_log), display_labels = [\"LGG\", \"GBM\"]).plot()\n",
    "plt.grid(False) # убирание сетки\n",
    "plt.show() # вывод графика"
   ]
  },
  {
   "cell_type": "markdown",
   "metadata": {
    "datalore": {
     "hide_input_from_viewers": true,
     "hide_output_from_viewers": true,
     "node_id": "BvSzijEABgOvttneHzly4U",
     "type": "MD"
    }
   },
   "source": [
    "        Логистическая регрессия обогнала KNN по качеству предсказаний, увеличив F1 score почти на 1 процент (улучшив его для LGG, но ухудшив для GBM)!\n",
    "    - Ошибка при предсказании LGG составила всего 15 пациентов из 95 (на 3 меньше, чем в KNN), что примерно равно 0.157 вероятности ошибки.   \n",
    "    - Ошибка для GBM же немного ухудшилась - на один неправильно предсказанный диагноз по сравнению с KNN, 7 из 56 пациентов, что ~ 0.125."
   ]
  },
  {
   "cell_type": "code",
   "execution_count": 50,
   "metadata": {},
   "outputs": [
    {
     "data": {
      "text/plain": [
       "Parameter containing:\n",
       "tensor([[-0.1781,  2.3526,  0.4150, -2.4514,  0.4755, -1.2647,  0.9863, -0.2587,\n",
       "         -1.7530,  0.6648, -0.2492, -1.0462,  0.4117, -1.1890,  1.8621, -2.3561,\n",
       "         -0.4708,  0.9686, -1.3869,  1.9315, -1.8167,  0.5819,  2.2856]],\n",
       "       dtype=torch.float64, requires_grad=True)"
      ]
     },
     "execution_count": 50,
     "metadata": {},
     "output_type": "execute_result"
    }
   ],
   "source": [
    "model_log.linear.weight # вывод весов модели"
   ]
  },
  {
   "cell_type": "markdown",
   "metadata": {
    "datalore": {
     "hide_input_from_viewers": true,
     "hide_output_from_viewers": true,
     "node_id": "Mt66xtMgkknr1uSL0yMhod",
     "type": "MD"
    }
   },
   "source": [
    "### c) Custom ensemble "
   ]
  },
  {
   "cell_type": "markdown",
   "metadata": {
    "datalore": {
     "hide_input_from_viewers": true,
     "hide_output_from_viewers": true,
     "node_id": "ofiIiYa6WJS1S0N1kC2TVt",
     "type": "MD"
    }
   },
   "source": [
    "        Кастомная ансамблевая модель для эксперимента с обучаемыми/не обучаемыми параметрами."
   ]
  },
  {
   "cell_type": "code",
   "execution_count": 34,
   "metadata": {
    "datalore": {
     "hide_input_from_viewers": true,
     "hide_output_from_viewers": true,
     "node_id": "b8qxow3uhvdj8Y0RMmWLsb",
     "type": "CODE"
    }
   },
   "outputs": [],
   "source": [
    "class CustomModel(nn.Module):\n",
    "    def __init__(self, input_size, output_size): # конструктор модели (input_size - число признаков, output_size - число таргетов для предсказания)\n",
    "        super(CustomModel, self).__init__() # инициализация \n",
    "        self.linear1 = nn.Linear(in_features=input_size, out_features=input_size//4) # линейный слой\n",
    "        self.dropout = nn.Dropout(p=0.2) # случайное зануление весов с вероятностью p=0.2\n",
    "        self.linear2 = nn.Linear(in_features=input_size//4, out_features=output_size) # линейный слой\n",
    "        self.sigmoid = nn.Sigmoid() # сигмойда для приведения числа, полученного после линейного слоя в область от 0 до 1 (вероятность)\n",
    "\n",
    "    def forward(self, X):\n",
    "        pred = self.linear1(X) # применяем линейный слой\n",
    "        pred = self.dropout(pred) # случайно обнуляем веса для диверсификации\n",
    "        pred = self.linear2(pred) # применяем линейный слой\n",
    "        pred = self.sigmoid(pred) # вызываем сигмойду\n",
    "        return pred # возвращение предсказания"
   ]
  },
  {
   "cell_type": "code",
   "execution_count": 35,
   "metadata": {
    "datalore": {
     "hide_input_from_viewers": true,
     "hide_output_from_viewers": true,
     "node_id": "CvK7LsesTVzUoo7vLXZhnR",
     "type": "CODE"
    }
   },
   "outputs": [],
   "source": [
    "class EnsembleModel(nn.Module):\n",
    "    def __init__(self, base_model, n_estimators, input_size, output_size): # конструктор модели (base_model - какие модели будут в ансамбле, input_size - число признаков, output_size - число таргетов для предсказания)\n",
    "        super(EnsembleModel, self).__init__() # инициализация \n",
    "        self.n_estimators = n_estimators # размер ансамбля\n",
    "        self.ensemble = []\n",
    "        for est in range(self.n_estimators): # добавляем модели в ансамбль\n",
    "            self.ensemble.append(base_model(input_size, output_size).to(torch.float64))\n",
    "        \n",
    "    def forward(self, X):\n",
    "        preds = torch.zeros((X.shape[0], 1)) # заготовка для предсказаний от моделей\n",
    "        for est in range(self.n_estimators): # суммируем предсказания всех моделей\n",
    "            preds += self.ensemble[est](X)\n",
    "        preds = preds / self.n_estimators # берём среднее\n",
    "        return preds.to(self.ensemble[-1].linear2.weight.dtype) # возвращаем предсказания (с кастом к типу выходного линейного слоя ~ типу модели)"
   ]
  },
  {
   "cell_type": "code",
   "execution_count": 36,
   "metadata": {
    "datalore": {
     "hide_input_from_viewers": true,
     "hide_output_from_viewers": true,
     "node_id": "xgO2jqV4PXRdrkiqj74lNa",
     "type": "CODE"
    }
   },
   "outputs": [],
   "source": [
    "model_ens = EnsembleModel(base_model=CustomModel, n_estimators=n_estimators, input_size=X_train.shape[1], output_size=Y_train.shape[1]) # создаём ансамбль моделей\n",
    "\n",
    "# создаём список параметров для обучения\n",
    "params = list()\n",
    "for i in range(10):\n",
    "    params += list(model_ens.ensemble[i].parameters())\n",
    "optimizer_ens = optim.Adam(params, lr=learning_rate) # определяем оптимайзер — Adam и передаём в него веса модели с lr\n",
    "\n",
    "for epoch in range(20): # немного обучим модель\n",
    "    Y_pred = model_ens(X_train)\n",
    "\n",
    "    loss = criterion(Y_pred, Y_train) # считаем ошибку по BCE loss\n",
    "    losses[\"EnsembleModel\"][\"train\"].append(loss.data) # запоминаем значение BCEloss\n",
    "    \n",
    "    optimizer_ens.zero_grad() # обнуляем градиенты во всех обучаемых torch.Tensor (ставит w.grad = 0 в torch.Tensor с requires_grad=True) (вызывается перед loss.backward(), чтобы не аккумулировать градиенты за несколько итераций обучения)\n",
    "    loss.backward() # считаем dloss/dw для каждого веса модели w, у которого requires_grad=True (сохраняется в w.grad следующим образом w.grad += dloss/dw)\n",
    "    optimizer_ens.step() # обновляет веса модели (тензоры, у которых стоит флаг requires_grad=True, используя значение из w.grad следующим образом w += -lr * w.grad)\n",
    "    \n",
    "    with torch.no_grad(): # запускаем валидацию (каждую эпоху)\n",
    "        Y_pred = model_ens(X_test) # вызываем forward с передачей X_test\n",
    "        losses[\"EnsembleModel\"][\"test\"].append(criterion(Y_pred, Y_test).data) # запоминаем значение BCEloss\n",
    "\n",
    "# отключаем обучение у весов\n",
    "for e_num in range(n_estimators//2): # рассматриваем по \"половине\" моделей в ансамбле\n",
    "    model_ens.ensemble[e_num].linear1.weight.requires_grad = False # у первой половины моделей в ансамбле отключаем обновление весов первого слоя\n",
    "    model_ens.ensemble[e_num].linear1.bias.requires_grad = False # и для bias (смещения)\n",
    "    model_ens.ensemble[e_num+5].linear2.weight.requires_grad = False # у второй половины моделей в ансамбле отключаем обновление весов второго слоя\n",
    "    model_ens.ensemble[e_num+5].linear2.bias.requires_grad = False # и для bias (смещения)\n",
    "\n",
    "for epoch in range(num_epochs-20): # проводим обучение и валидацию num_epochs раз (-20, так как 20 эпох мы уже обучали)\n",
    "    Y_pred = model_ens(X_train) # делаем предсказание\n",
    "\n",
    "    loss = criterion(Y_pred, Y_train) # считаем ошибку по BCE loss\n",
    "    losses[\"EnsembleModel\"][\"train\"].append(loss.data) # запоминаем значение BCEloss\n",
    "\n",
    "    optimizer_ens.zero_grad() # обнуляем градиенты во всех обучаемых torch.Tensor (ставит w.grad = 0 в torch.Tensor с requires_grad=True) (вызывается перед loss.backward(), чтобы не аккумулировать градиенты за несколько итераций обучения)\n",
    "    loss.backward() # считаем dloss/dw для каждого веса модели w, у которого requires_grad=True (сохраняется в w.grad следующим образом w.grad += dloss/dw)\n",
    "    optimizer_ens.step() # обновляет веса модели (тензоры, у которых стоит флаг requires_grad=True, используя значение из w.grad следующим образом w += -lr * w.grad)\n",
    "\n",
    "    with torch.no_grad(): # запускаем тестирование (каждую эпоху)\n",
    "        Y_pred = model_ens(X_test) # вызываем forward с передачей X_test\n",
    "        losses[\"EnsembleModel\"][\"test\"].append(criterion(Y_pred, Y_test).data) # запоминаем значение BCEloss"
   ]
  },
  {
   "cell_type": "code",
   "execution_count": 37,
   "metadata": {
    "datalore": {
     "hide_input_from_viewers": true,
     "hide_output_from_viewers": true,
     "node_id": "fn1ypgm8gcDvJyCrTiz4cI",
     "type": "CODE"
    }
   },
   "outputs": [
    {
     "data": {
      "image/png": "[encoded data removed]",
      "text/plain": [
       "<Figure size 720x576 with 1 Axes>"
      ]
     },
     "metadata": {
      "needs_background": "light"
     },
     "output_type": "display_data"
    }
   ],
   "source": [
    "plt.figure(figsize=(10,8)) # задание размера графика\n",
    "plt.plot(losses[\"EnsembleModel\"][\"train\"], \"b\", label='train') # построение BCE loss на обучении\n",
    "plt.plot(losses[\"EnsembleModel\"][\"test\"], \"r\", label='test') # построение BCE loss на тестирование\n",
    "plt.title('BCE Loss with EnsembleModel') # название графика\n",
    "plt.xlabel('epoch') # подпись по оси x\n",
    "plt.ylabel('loss') # подпись по оси y\n",
    "plt.legend() # вывод названий графиков\n",
    "plt.show() # вывод графика"
   ]
  },
  {
   "cell_type": "markdown",
   "metadata": {
    "datalore": {
     "hide_input_from_viewers": true,
     "hide_output_from_viewers": true,
     "node_id": "L2UwSrZf3zIfomzmHzwGbD",
     "type": "MD"
    }
   },
   "source": [
    "        Проверяем работу ансамбля моделей, используя F1 score."
   ]
  },
  {
   "cell_type": "code",
   "execution_count": 38,
   "metadata": {
    "datalore": {
     "hide_input_from_viewers": true,
     "hide_output_from_viewers": true,
     "node_id": "4QpsuKCi6Qv3wpqXn1yjpW",
     "type": "CODE"
    }
   },
   "outputs": [
    {
     "data": {
      "text/plain": [
       "0.8130081300813009"
      ]
     },
     "execution_count": 38,
     "metadata": {},
     "output_type": "execute_result"
    }
   ],
   "source": [
    "preds_ens = model_ens(X_test) # делаем предсказание\n",
    "preds_ens = (preds_ens>0.5).float() # конвертируем верояности в классы (типа float)\n",
    "f1_score(Y_test, preds_ens) # считаем f1 score"
   ]
  },
  {
   "cell_type": "code",
   "execution_count": 39,
   "metadata": {
    "datalore": {
     "hide_input_from_viewers": true,
     "hide_output_from_viewers": true,
     "node_id": "jzWqiVEzTPj1vsCuM3Vmkz",
     "type": "CODE"
    }
   },
   "outputs": [
    {
     "data": {
      "image/png": "[encoded data removed]",
      "text/plain": [
       "<Figure size 432x288 with 2 Axes>"
      ]
     },
     "metadata": {
      "needs_background": "light"
     },
     "output_type": "display_data"
    }
   ],
   "source": [
    "# вывод Confusion Matrix, отражающей качество предсказаний\n",
    "ConfusionMatrixDisplay(confusion_matrix = confusion_matrix(Y_test, preds_ens), display_labels = [\"LGG\", \"GBM\"]).plot()\n",
    "plt.grid(False) # убирание сетки\n",
    "plt.show() # вывод графика"
   ]
  },
  {
   "cell_type": "markdown",
   "metadata": {
    "datalore": {
     "hide_input_from_viewers": true,
     "hide_output_from_viewers": true,
     "node_id": "iklZYtwj8MyDbZZNS1zkEQ",
     "type": "MD"
    }
   },
   "source": [
    "        Ансамблевая модель получилась довольно случайной, из-за остановки обучения весов и наличия dropout, однако это не помешало ей слегка обогнать KNN и почти достать логистическую регрессию по F1 score.\n",
    "    - Ошибка при предсказании LGG составила всего 17 пациентов из 95 (на 1 меньше, чем в KNN и на 2 больше, чем в логистической регрессии), что примерно равно 0.178 вероятности ошибки при предсказании.\n",
    "    - Ошибка для GBM — 6 из 56 пациентов (что аналогично результату KNN и на 1 меньше, чем в логистической регрессии) ~ 0.107."
   ]
  },
  {
   "cell_type": "markdown",
   "metadata": {},
   "source": [
    "### d) Random Forest Classifier"
   ]
  },
  {
   "cell_type": "markdown",
   "metadata": {},
   "source": [
    "        Случайный лес — ансамблевая модель, в которой присутствует множество decision tree классификаторов, обученных на разных частях датасета. Для финального предсказания использует среднее от всех деревьев."
   ]
  },
  {
   "cell_type": "code",
   "execution_count": null,
   "metadata": {},
   "outputs": [],
   "source": [
    "FOREST_PARAMS = { # параметры для Random Forest\n",
    "    \"n_estimators\": [5, 10, 25], # число деревьев в лесу\n",
    "    \"criterion\": [\"gini\", \"entropy\"], # функция для оценивания качества сплита в узле\n",
    "    \"max_depth\": [None, 5, 25, 50], # максимальная глубина деревьев (None - глубина не ограничена)\n",
    "    \"min_samples_split\": [2, 5, 10], # минимальное число экземпляров, необходимое для сплита в узле\n",
    "    \"max_features\": [None, \"sqrt\"] # количество признаков, которые следует учитывать при поиске лучшего разделения (None - все признаки)\n",
    "} "
   ]
  },
  {
   "cell_type": "code",
   "execution_count": null,
   "metadata": {},
   "outputs": [],
   "source": [
    "model_forest_gs = GridSearchCV(RandomForestClassifier(), FOREST_PARAMS, cv=3) # обучаем модель с поиском наилучшей комбинации параметров\n",
    "model_forest_gs.fit(X_train, Y_train.ravel()) # ravel преобразует эту форму массива в (n, ) (т.е. засунет всё в одномерный массив)\n",
    "preds_forest = model_forest_gs.best_estimator_.predict(X_test)"
   ]
  },
  {
   "cell_type": "markdown",
   "metadata": {},
   "source": [
    "        Проверяем работу модели (случайного леса), используя F1 score."
   ]
  },
  {
   "cell_type": "code",
   "execution_count": null,
   "metadata": {},
   "outputs": [
    {
     "data": {
      "text/plain": [
       "0.8205128205128205"
      ]
     },
     "metadata": {},
     "output_type": "display_data"
    }
   ],
   "source": [
    "f1_score(Y_test, preds_forest) # считаем f1 score"
   ]
  },
  {
   "cell_type": "code",
   "execution_count": null,
   "metadata": {},
   "outputs": [
    {
     "data": {
      "image/png": "[encoded data removed]",
      "text/plain": [
       "<Figure size 432x288 with 2 Axes>"
      ]
     },
     "metadata": {},
     "output_type": "display_data"
    }
   ],
   "source": [
    "# вывод Confusion Matrix, отражающей качество предсказаний\n",
    "ConfusionMatrixDisplay(confusion_matrix = confusion_matrix(Y_test, preds_forest), display_labels = [\"LGG\", \"GBM\"]).plot()\n",
    "plt.grid(False) # убирание сетки\n",
    "plt.show() # вывод графика"
   ]
  },
  {
   "cell_type": "markdown",
   "metadata": {},
   "source": [
    "        Случайный лес показал наилучшие результаты среди всех рассматриваемых моделей по F1 score. \n",
    "    - Ошибка при предсказании LGG составила рекордные 13 пациентов из 95 (ещё на 2 меньше, чем в логистической регресии), что примерно равно 0.136 вероятности ошибки при предсказании.\n",
    "    - Ошибка для GBM же у этой модели — худшая, целых 8 пациентов из 56 (на 1 больше, чем у логистической регрессии и на два больше, чем у KNN и ансамбля), что ~ 0.142.\n",
    "Обобщая, случайный лес улучшил качество предсказаний, подняв при этом F1 score до 0.820 и почти сравняв ошибки для обоих классов."
   ]
  },
  {
   "cell_type": "markdown",
   "metadata": {
    "datalore": {
     "hide_input_from_viewers": true,
     "hide_output_from_viewers": true,
     "node_id": "yNc6r0lb0J6X9jli3nBgra",
     "type": "MD"
    }
   },
   "source": [
    "## 3) Выводы"
   ]
  },
  {
   "cell_type": "markdown",
   "metadata": {
    "datalore": {
     "hide_input_from_viewers": true,
     "hide_output_from_viewers": true,
     "node_id": "rnayIoqJJnoRYpacxVybQJ",
     "type": "MD"
    }
   },
   "source": [
    "        В работе были рассмотрены 4 модели (KNN, Logistic Regression, Custom Ensemble, Random Forest) и проведён анализ их обучения с предсказаниями на датасете данных об опухолях головного мозга."
   ]
  },
  {
   "cell_type": "code",
   "execution_count": 45,
   "metadata": {
    "datalore": {
     "hide_input_from_viewers": true,
     "hide_output_from_viewers": true,
     "node_id": "V2gbvJ7PYMZ3JKhfwXfC7m",
     "type": "CODE"
    }
   },
   "outputs": [
    {
     "data": {
      "image/png": "[encoded data removed]",
      "text/plain": [
       "<Figure size 1080x360 with 1 Axes>"
      ]
     },
     "metadata": {
      "needs_background": "light"
     },
     "output_type": "display_data"
    }
   ],
   "source": [
    "plt.figure(figsize=(15, 5)) # размер графика\n",
    "f1_scores = [f1_score(Y_test, preds_knn), f1_score(Y_test, preds_log), f1_score(Y_test, preds_ens), f1_score(Y_test, preds_forest)] # подсчёт f1 score\n",
    "plt.grid(True) # включаем сетку для облегчения сравнения\n",
    "plt.plot([\"KNN\", \"Logistic Regression\", \"Ensemble\", \"Random Forest\"], f1_scores) # строим график значений F1 score\n",
    "plt.title(\"F1 scores\") # заголовок графика\n",
    "plt.show() # выводим график"
   ]
  },
  {
   "cell_type": "markdown",
   "metadata": {
    "datalore": {
     "hide_input_from_viewers": true,
     "hide_output_from_viewers": true,
     "node_id": "i3H0uuuohEJXUkzNXkrcug",
     "type": "MD"
    }
   },
   "source": [
    "        Самой лучшей моделью среди рассмотренных оказался — случайный лес."
   ]
  },
  {
   "cell_type": "markdown",
   "metadata": {
    "datalore": {
     "hide_input_from_viewers": true,
     "hide_output_from_viewers": true,
     "node_id": "YdAuojeFnspo8Xvf8bCB0R",
     "type": "MD"
    }
   },
   "source": [
    "#### Предсказание на валидационной выборке"
   ]
  },
  {
   "cell_type": "code",
   "execution_count": 46,
   "metadata": {
    "datalore": {
     "hide_input_from_viewers": true,
     "hide_output_from_viewers": true,
     "node_id": "p4yMIQt7TbFho8ijNQPMD8",
     "type": "CODE"
    }
   },
   "outputs": [],
   "source": [
    "# предсказание\n",
    "preds_validation = model_forest_gs.best_estimator_.predict(X_validation) # делаем предсказание\n",
    "preds_validation = (preds_validation>0.5).astype(float) # конвертируем верояности в классы (типа float)"
   ]
  },
  {
   "cell_type": "code",
   "execution_count": 47,
   "metadata": {
    "datalore": {
     "hide_input_from_viewers": true,
     "hide_output_from_viewers": true,
     "node_id": "GpRPrYEVfoEzIMTC727tei",
     "type": "CODE"
    }
   },
   "outputs": [],
   "source": [
    "# запись в файл\n",
    "with open(\"./submissions/submission.csv\", \"w\") as f: # открытие файла на запись\n",
    "    f.write(\"Id,Grade\\n\") # первая строка файла заданного формата\n",
    "    for i in range(X_validation.shape[0]): # записываем предсказания для каждого инпута\n",
    "        f.write(f\"{i},{int(preds_validation[i])}\\n\") # запись строк в формате \"id пациента,предсказание\""
   ]
  }
 ],
 "metadata": {
  "datalore": {
   "base_environment": "default",
   "computation_mode": "JUPYTER",
   "package_manager": "pip",
   "packages": [],
   "report_row_ids": [],
   "version": 3
  },
  "kernelspec": {
   "display_name": "Python 3",
   "language": "python",
   "name": "python3"
  },
  "language_info": {
   "codemirror_mode": {
    "name": "ipython",
    "version": 3
   },
   "file_extension": ".py",
   "mimetype": "text/x-python",
   "name": "python",
   "nbconvert_exporter": "python",
   "pygments_lexer": "ipython3",
   "version": "3.9.12"
  }
 },
 "nbformat": 4,
 "nbformat_minor": 4
}
